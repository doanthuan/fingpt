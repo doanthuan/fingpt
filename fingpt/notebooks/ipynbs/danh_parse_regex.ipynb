{
 "cells": [
  {
   "cell_type": "code",
   "execution_count": 6,
   "metadata": {},
   "outputs": [],
   "source": [
    "import sys\n",
    "\n",
    "sys.path.append(\"../..\")\n",
    "from integration_tests.entities import TestOutput\n",
    "import re"
   ]
  },
  {
   "cell_type": "code",
   "execution_count": 65,
   "metadata": {},
   "outputs": [],
   "source": [
    "def _extract_prev_output_data(key: str, response: list[TestOutput]) -> dict:\n",
    "    parts = key.split(\".\")\n",
    "    if len(parts) == 1:\n",
    "        assert \"steps\" in parts[0]\n",
    "        step_index = eval(parts[0].replace(\"steps\", \"\"))[0]\n",
    "        return response[step_index].model_dump()\n",
    "    assert \"steps\" in parts[0]\n",
    "    step_index = eval(parts[0].replace(\"steps\", \"\"))[0]\n",
    "    current = response[step_index].model_dump()\n",
    "    parts = parts[1:]\n",
    "    for p in parts:\n",
    "        if \"[\" in p and \"]\" in p:\n",
    "            print(p)\n",
    "            key_name, idx = re.match(r\"(.+?)\\[(\\d+)]\", p).groups()\n",
    "            print(key_name, idx)\n",
    "            current = current.get(key_name)[int(idx)]\n",
    "        else:\n",
    "            current = current.get(p)\n",
    "    return current"
   ]
  },
  {
   "cell_type": "code",
   "execution_count": 67,
   "metadata": {},
   "outputs": [
    {
     "name": "stdout",
     "output_type": "stream",
     "text": [
      "a[0]\n",
      "a 0\n"
     ]
    },
    {
     "data": {
      "text/plain": [
       "1"
      ]
     },
     "execution_count": 67,
     "metadata": {},
     "output_type": "execute_result"
    }
   ],
   "source": [
    "_extract_prev_output_data(\n",
    "    \"steps[0].response.a[0].id\",\n",
    "    [TestOutput(status=200, response={\"a\": [{\"id\": 1}]})],\n",
    ")"
   ]
  },
  {
   "cell_type": "code",
   "execution_count": 85,
   "metadata": {},
   "outputs": [
    {
     "name": "stdout",
     "output_type": "stream",
     "text": [
      "<re.Match object; span=(0, 19), match='${steps[0].abc.xyz}'>\n",
      "None\n",
      "<re.Match object; span=(0, 4), match='$abc'>\n"
     ]
    }
   ],
   "source": [
    "pattern = r\"\\$\\{?(.*)\\}?\"\n",
    "text1 = \"${steps[0].abc.xyz}\"\n",
    "text2 = \"this is a normal text\"\n",
    "text3 = \"$abc\"\n",
    "match1 = re.search(pattern, text1)\n",
    "match2 = re.search(pattern, text2)\n",
    "match3 = re.search(pattern, text3)\n",
    "print(re.search(pattern, text1))\n",
    "print(re.search(pattern, text2))\n",
    "print(re.search(pattern, text3))"
   ]
  },
  {
   "cell_type": "code",
   "execution_count": 86,
   "metadata": {},
   "outputs": [
    {
     "name": "stdout",
     "output_type": "stream",
     "text": [
      "('steps[0].abc.xyz}',)\n",
      "('abc',)\n"
     ]
    }
   ],
   "source": [
    "print(match1.groups())\n",
    "print(match3.groups())"
   ]
  },
  {
   "cell_type": "code",
   "execution_count": 94,
   "metadata": {},
   "outputs": [
    {
     "data": {
      "text/plain": [
       "'steps[0].abc.xyz'"
      ]
     },
     "execution_count": 94,
     "metadata": {},
     "output_type": "execute_result"
    }
   ],
   "source": [
    "match1.groups()[0][:-1]"
   ]
  },
  {
   "cell_type": "code",
   "execution_count": 113,
   "metadata": {},
   "outputs": [],
   "source": [
    "def _extract_prev_output_data(key: str, responses: list[TestOutput]) -> dict:\n",
    "    parts = key.split(\".\")\n",
    "    if len(parts) == 1:\n",
    "        assert \"steps\" in parts[0]\n",
    "        step_index = eval(parts[0].replace(\"steps\", \"\"))[0]\n",
    "        return responses[step_index].model_dump()\n",
    "    assert \"steps\" in parts[0]\n",
    "    step_index = eval(parts[0].replace(\"steps\", \"\"))[0]\n",
    "    current = responses[step_index].model_dump()\n",
    "    parts = parts[1:]\n",
    "    for p in parts:\n",
    "        if \"[\" in p and \"]\" in p:\n",
    "            key_name, idx = re.match(r\"(.+?)\\[(\\d+)]\", p).groups()\n",
    "            current = current.get(key_name)[int(idx)]\n",
    "        else:\n",
    "            current = current.get(p)\n",
    "    return current\n",
    "\n",
    "\n",
    "def _compile_input(test_input: dict, responses: list[TestOutput]) -> dict:\n",
    "    compiled_input = {}\n",
    "    pattern = r\"\\$\\{?(.*)\\}?\"  # regex pattern to extract value in ${} or $\n",
    "    for key, value in test_input.items():\n",
    "        if isinstance(value, str):\n",
    "            matches = re.search(pattern, value)\n",
    "            if matches:\n",
    "                response_key = matches.groups()[0][:-1]\n",
    "                prev_output_data = _extract_prev_output_data(response_key, responses)\n",
    "                compiled_input[key] = prev_output_data\n",
    "            else:\n",
    "                compiled_input[key] = value\n",
    "        elif isinstance(value, dict):\n",
    "            compiled_input[key] = _compile_input(value, responses)\n",
    "        else:\n",
    "            compiled_input[key] = value\n",
    "\n",
    "    return compiled_input"
   ]
  },
  {
   "cell_type": "code",
   "execution_count": 114,
   "metadata": {},
   "outputs": [
    {
     "data": {
      "text/plain": [
       "{'a': 'normal', 'b': 200, 'c': {'x': 10}}"
      ]
     },
     "execution_count": 114,
     "metadata": {},
     "output_type": "execute_result"
    }
   ],
   "source": [
    "test_input = {\n",
    "    \"a\": \"normal\",\n",
    "    \"b\": \"${steps[0].status}\",\n",
    "    \"c\": {\"x\": \"${steps[1].response.a[0].idx}\"},\n",
    "}\n",
    "responses = [\n",
    "    TestOutput(status=200, response={\"a\": 100}),\n",
    "    TestOutput(status=200, response={\"a\": [{\"idx\": 10}, {\"idx\": 20}]}),\n",
    "]\n",
    "_compile_input(test_input, responses)"
   ]
  },
  {
   "cell_type": "code",
   "execution_count": null,
   "metadata": {},
   "outputs": [],
   "source": []
  }
 ],
 "metadata": {
  "kernelspec": {
   "display_name": "fingpt-VvNJuklE-py3.11",
   "language": "python",
   "name": "python3"
  },
  "language_info": {
   "codemirror_mode": {
    "name": "ipython",
    "version": 3
   },
   "file_extension": ".py",
   "mimetype": "text/x-python",
   "name": "python",
   "nbconvert_exporter": "python",
   "pygments_lexer": "ipython3",
   "version": "3.11.4"
  }
 },
 "nbformat": 4,
 "nbformat_minor": 2
}
