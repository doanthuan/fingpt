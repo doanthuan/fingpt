{
 "cells": [
  {
   "cell_type": "code",
   "execution_count": 2,
   "id": "initial_id",
   "metadata": {
    "ExecuteTime": {
     "end_time": "2024-09-05T08:36:08.339884Z",
     "start_time": "2024-09-05T08:36:06.271996Z"
    },
    "collapsed": true
   },
   "outputs": [],
   "source": [
    "from app.assistant.card.nodes import _build_choices_from_card_list\n",
    "import logging\n",
    "from uuid import uuid4\n",
    "from pprint import pprint\n",
    "from typing import Literal\n",
    "from typing import Annotated, Any\n",
    "\n",
    "\n",
    "from app.auth.auth_service import AuthService\n",
    "from langchain_core.messages import HumanMessage, AIMessage\n",
    "from app.core.config import settings\n",
    "from app.core.context import RequestContext\n",
    "from app.entity.api import AuthReqDto, AuthRespDto, AuthUserType\n",
    "from app.prompt.prompt_service import PromptService\n",
    "from app.assistant.card.state import CardAgentState\n",
    "from app.assistant.card.nodes import retrieve_cards, retrieve_renewable_cards\n",
    "from app.entity import (\n",
    "    Card,\n",
    "    ChatRespDto,\n",
    "    ChatRespAction,\n",
    "    ChatRespMetadataForCardChoice,\n",
    "    ChatRespMetadataForChoices,\n",
    ")\n",
    "\n",
    "from app.entity.chat_response import ChatRespMetadataForRenewCard\n",
    "\n",
    "from dotenv import load_dotenv\n",
    "from IPython.display import Image, display\n",
    "from langchain_core.messages import SystemMessage\n",
    "from langchain_openai import AzureChatOpenAI\n",
    "from langgraph.checkpoint.aiosqlite import AsyncSqliteSaver\n",
    "from langgraph.prebuilt import ToolNode, tools_condition\n",
    "from langgraph.graph import END, StateGraph\n",
    "from langchain_core.tools import tool\n",
    "from langchain_core.runnables import RunnableConfig\n",
    "from langgraph.prebuilt import InjectedState"
   ]
  },
  {
   "cell_type": "code",
   "execution_count": 2,
   "id": "5b6cdb5306568d1f",
   "metadata": {
    "ExecuteTime": {
     "end_time": "2024-09-05T08:36:09.899500Z",
     "start_time": "2024-09-05T08:36:09.888524Z"
    }
   },
   "outputs": [],
   "source": [
    "ps = PromptService()"
   ]
  },
  {
   "cell_type": "code",
   "execution_count": 3,
   "id": "39ded5429a9df2f2",
   "metadata": {
    "ExecuteTime": {
     "end_time": "2024-09-05T08:36:10.383568Z",
     "start_time": "2024-09-05T08:36:10.375622Z"
    }
   },
   "outputs": [
    {
     "data": {
      "text/plain": [
       "True"
      ]
     },
     "execution_count": 3,
     "metadata": {},
     "output_type": "execute_result"
    }
   ],
   "source": [
    "logging.basicConfig(level=logging.INFO)\n",
    "log = logging.getLogger(__name__)\n",
    "\n",
    "load_dotenv()"
   ]
  },
  {
   "cell_type": "code",
   "execution_count": 3,
   "id": "81cdedbe4a533d08",
   "metadata": {
    "ExecuteTime": {
     "end_time": "2024-09-05T08:36:10.729405Z",
     "start_time": "2024-09-05T08:36:10.724089Z"
    }
   },
   "outputs": [],
   "source": [
    "request_context = RequestContext(str(uuid4()))"
   ]
  },
  {
   "cell_type": "code",
   "execution_count": 5,
   "id": "7ebf393af7b3fa4a",
   "metadata": {
    "ExecuteTime": {
     "end_time": "2024-09-05T08:36:11.412867Z",
     "start_time": "2024-09-05T08:36:11.392388Z"
    }
   },
   "outputs": [],
   "source": [
    "llm_model = AzureChatOpenAI(azure_deployment=settings.azure_openai_deployment)"
   ]
  },
  {
   "cell_type": "code",
   "execution_count": 6,
   "id": "d8f4cc0f1b365036",
   "metadata": {
    "ExecuteTime": {
     "end_time": "2024-09-05T08:36:12.395551Z",
     "start_time": "2024-09-05T08:36:12.392855Z"
    }
   },
   "outputs": [],
   "source": [
    "state_storage = \"../data/renew_card.sqlite\"\n",
    "amemory = AsyncSqliteSaver.from_conn_string(state_storage)"
   ]
  },
  {
   "cell_type": "markdown",
   "id": "bd13311e8526fdc9",
   "metadata": {},
   "source": [
    "# State"
   ]
  },
  {
   "cell_type": "code",
   "execution_count": 7,
   "id": "a6b14d9b4329718a",
   "metadata": {
    "ExecuteTime": {
     "end_time": "2024-09-05T08:36:14.487664Z",
     "start_time": "2024-09-05T08:36:14.485843Z"
    }
   },
   "outputs": [],
   "source": [
    "card_agent_state = CardAgentState(\n",
    "    messages=[],\n",
    "    responses=[],\n",
    "    cards=None,\n",
    ")"
   ]
  },
  {
   "cell_type": "markdown",
   "id": "96959c53ba6f1c13",
   "metadata": {
    "lines_to_next_cell": 2
   },
   "source": [
    "# Get cards"
   ]
  },
  {
   "cell_type": "code",
   "execution_count": 8,
   "id": "b13743e4ee393886",
   "metadata": {
    "ExecuteTime": {
     "end_time": "2024-09-05T08:36:15.278571Z",
     "start_time": "2024-09-05T08:36:15.276687Z"
    },
    "lines_to_next_cell": 2
   },
   "outputs": [],
   "source": [
    "async def get_auth_response() -> AuthRespDto:\n",
    "    auth_req_dto = AuthReqDto(\n",
    "        username=settings.ebp_test_account_username,\n",
    "        password=settings.ebp_test_account_password,\n",
    "        user_type=AuthUserType.RETAIL,\n",
    "    )\n",
    "    auth_service = AuthService()\n",
    "    auth_resp_dto = await auth_service.login(ctx=request_context, req=auth_req_dto)\n",
    "    return auth_resp_dto"
   ]
  },
  {
   "cell_type": "code",
   "execution_count": 10,
   "id": "aa3865a00f027c87",
   "metadata": {
    "ExecuteTime": {
     "end_time": "2024-09-05T08:36:19.418081Z",
     "start_time": "2024-09-05T08:36:15.715100Z"
    }
   },
   "outputs": [
    {
     "name": "stdout",
     "output_type": "stream",
     "text": [
      "\u001b[32m2024-09-06 08:39:19.288\u001b[0m | \u001b[34m\u001b[1mDEBUG   \u001b[0m | \u001b[36mapp.auth.auth_service\u001b[0m:\u001b[36m_access_token\u001b[0m:\u001b[36m65\u001b[0m | c3be4896-1464-400c-bd5c-55fef2069815  - \u001b[34m\u001b[1mGetting token from: https://identity.stg.sdbxaz.azure.backbaseservices.com/auth/realms/customer/protocol/openid-connect/token\u001b[0m\n",
      "\u001b[32m2024-09-06 08:39:20.111\u001b[0m | \u001b[1mINFO    \u001b[0m | \u001b[36mapp.auth.auth_service\u001b[0m:\u001b[36m_access_token\u001b[0m:\u001b[36m77\u001b[0m | c3be4896-1464-400c-bd5c-55fef2069815  - \u001b[1mReturning token...\u001b[0m\n",
      "\u001b[32m2024-09-06 08:39:20.113\u001b[0m | \u001b[34m\u001b[1mDEBUG   \u001b[0m | \u001b[36mapp.auth.auth_service\u001b[0m:\u001b[36m_get_service_agreements\u001b[0m:\u001b[36m96\u001b[0m | c3be4896-1464-400c-bd5c-55fef2069815  - \u001b[34m\u001b[1mGetting service agreements from: https://retail.stg.sdbxaz.azure.backbaseservices.com/api/access-control/client-api/v3/accessgroups/user-context/service-agreements\u001b[0m\n",
      "\u001b[32m2024-09-06 08:39:20.957\u001b[0m | \u001b[1mINFO    \u001b[0m | \u001b[36mapp.auth.auth_service\u001b[0m:\u001b[36m_get_service_agreements\u001b[0m:\u001b[36m109\u001b[0m | c3be4896-1464-400c-bd5c-55fef2069815  - \u001b[1mReturning service agreement id...\u001b[0m\n",
      "\u001b[32m2024-09-06 08:39:20.959\u001b[0m | \u001b[34m\u001b[1mDEBUG   \u001b[0m | \u001b[36mapp.auth.auth_service\u001b[0m:\u001b[36m_set_user_context\u001b[0m:\u001b[36m131\u001b[0m | c3be4896-1464-400c-bd5c-55fef2069815  - \u001b[34m\u001b[1mSetting user context at: https://retail.stg.sdbxaz.azure.backbaseservices.com/api/access-control/client-api/v3/accessgroups/user-context\u001b[0m\n",
      "\u001b[32m2024-09-06 08:39:21.784\u001b[0m | \u001b[1mINFO    \u001b[0m | \u001b[36mapp.auth.auth_service\u001b[0m:\u001b[36m_set_user_context\u001b[0m:\u001b[36m143\u001b[0m | c3be4896-1464-400c-bd5c-55fef2069815  - \u001b[1mReturning cookie...\u001b[0m\n"
     ]
    }
   ],
   "source": [
    "auth_response = await get_auth_response()"
   ]
  },
  {
   "cell_type": "code",
   "execution_count": 11,
   "id": "dfb6a33d2dcc6ca9",
   "metadata": {
    "ExecuteTime": {
     "end_time": "2024-09-05T08:36:19.420858Z",
     "start_time": "2024-09-05T08:36:19.418777Z"
    }
   },
   "outputs": [],
   "source": [
    "agent_configurable = {\n",
    "    \"ebp_access_token\": auth_response.access_token,\n",
    "    \"ebp_cookie\": auth_response.cookie,\n",
    "    \"ebp_edge_domain\": auth_response.edge_domain,\n",
    "    \"ctx\": request_context,\n",
    "    \"llm_model\": llm_model,\n",
    "    \"ps\": ps,\n",
    "}"
   ]
  },
  {
   "cell_type": "code",
   "execution_count": 12,
   "id": "10596df408a08d5d",
   "metadata": {
    "ExecuteTime": {
     "end_time": "2024-09-05T08:36:21.634551Z",
     "start_time": "2024-09-05T08:36:20.037624Z"
    }
   },
   "outputs": [
    {
     "name": "stdout",
     "output_type": "stream",
     "text": [
      "\u001b[32m2024-09-06 08:39:21.813\u001b[0m | \u001b[1mINFO    \u001b[0m | \u001b[36mapp.assistant.card.nodes\u001b[0m:\u001b[36mget_cards\u001b[0m:\u001b[36m46\u001b[0m | c3be4896-1464-400c-bd5c-55fef2069815  - \u001b[1mRetrieve a list of cards...\u001b[0m\n",
      "\u001b[32m2024-09-06 08:39:21.814\u001b[0m | \u001b[34m\u001b[1mDEBUG   \u001b[0m | \u001b[36mapp.bb_retail.request\u001b[0m:\u001b[36mlist_cards\u001b[0m:\u001b[36m114\u001b[0m | c3be4896-1464-400c-bd5c-55fef2069815  - \u001b[34m\u001b[1mGetting list cards...\u001b[0m\n",
      "\u001b[32m2024-09-06 08:39:21.815\u001b[0m | \u001b[34m\u001b[1mDEBUG   \u001b[0m | \u001b[36mapp.bb_retail.request\u001b[0m:\u001b[36m_make_request\u001b[0m:\u001b[36m151\u001b[0m | c3be4896-1464-400c-bd5c-55fef2069815  - \u001b[34m\u001b[1mMaking request to https://retail.stg.sdbxaz.azure.backbaseservices.com/api/cards-presentation-service/client-api/v2/cards...\u001b[0m\n",
      "\u001b[32m2024-09-06 08:39:23.525\u001b[0m | \u001b[34m\u001b[1mDEBUG   \u001b[0m | \u001b[36mapp.bb_retail.request\u001b[0m:\u001b[36mlist_cards\u001b[0m:\u001b[36m119\u001b[0m | c3be4896-1464-400c-bd5c-55fef2069815  - \u001b[34m\u001b[1mResponse from _make_request: [{'id': 'b465eb1e-5cba-4823-981f-acb26ea3b982', 'brand': 'mastercard', 'type': 'Debit', 'status': 'Active', 'lockStatus': 'UNLOCKED', 'replacement': {'status': 'NotUnderReplacement', 'additions': {}}, 'holder': {'name': 'Sara Williams', 'additions': {}}, 'expiryDate': {'year': '2028', 'month': '08', 'additions': {}}, 'currency': 'USD', 'maskedNumber': '0142', 'limits': [{'id': '4832eba8-174a-44df-9955-9ea8d405b7bb', 'channel': 'atm', 'frequency': 'DAILY', 'amount': 5000, 'maxAmount': 10000, 'minAmount': 0, 'additions': {}}, {'id': 'ef128b74-de3a-4b4b-a0bf-8d282c525ada', 'channel': 'online', 'frequency': 'DAILY', 'amount': 5000, 'maxAmount': 10000, 'minAmount': 0, 'additions': {}}, {'id': 'fcc5bf0c-a084-4e0a-86db-ed5ba18d5826', 'channel': 'atm', 'frequency': 'DAILY', 'amount': 5000, 'maxAmount': 10000, 'minAmount': 0, 'additions': {}}, {'id': 'cd2ff725-2f17-4ada-9ca8-04619374af0d', 'channel': 'online', 'frequency': 'DAILY', 'amount': 5000, 'maxAmount': 10000, 'minAmount': 0, 'additions': {}}, {'id': '11ab3d10-7978-49bd-8136-7c8eaf13f25d', 'channel': 'atm', 'frequency': 'DAILY', 'amount': 5000, 'maxAmount': 10000, 'minAmount': 0, 'additions': {}}], 'cardVisual': {'frontImageURL': 'https://cards-assets.stg.sdbxaz.azure.backbaseservices.com/assets/BackbaseStandard.png'}, 'instrument': 'PHYSICAL', 'additions': {}}, {'id': 'd94b0808-f085-4ddd-be66-bd8fe67119a1', 'brand': 'mastercard', 'type': 'Debit', 'status': 'Cancelled', 'lockStatus': 'UNLOCKED', 'replacement': {'status': 'Replaced', 'reason': 'Lost', 'replacedById': 'b465eb1e-5cba-4823-981f-acb26ea3b982', 'additions': {}}, 'holder': {'name': 'Sara Williams', 'additions': {}}, 'expiryDate': {'year': '2028', 'month': '08', 'additions': {}}, 'currency': 'USD', 'maskedNumber': '5701', 'limits': [{'id': '4832eba8-174a-44df-9955-9ea8d405b7bb', 'channel': 'atm', 'frequency': 'DAILY', 'amount': 5000, 'maxAmount': 10000, 'minAmount': 0, 'additions': {}}, {'id': 'ef128b74-de3a-4b4b-a0bf-8d282c525ada', 'channel': 'online', 'frequency': 'DAILY', 'amount': 5000, 'maxAmount': 10000, 'minAmount': 0, 'additions': {}}, {'id': 'fcc5bf0c-a084-4e0a-86db-ed5ba18d5826', 'channel': 'atm', 'frequency': 'DAILY', 'amount': 5000, 'maxAmount': 10000, 'minAmount': 0, 'additions': {}}, {'id': 'cd2ff725-2f17-4ada-9ca8-04619374af0d', 'channel': 'online', 'frequency': 'DAILY', 'amount': 5000, 'maxAmount': 10000, 'minAmount': 0, 'additions': {}}, {'id': '11ab3d10-7978-49bd-8136-7c8eaf13f25d', 'channel': 'atm', 'frequency': 'DAILY', 'amount': 5000, 'maxAmount': 10000, 'minAmount': 0, 'additions': {}}], 'cardVisual': {'frontImageURL': 'https://cards-assets.stg.sdbxaz.azure.backbaseservices.com/assets/BackbaseStandard.png'}, 'instrument': 'PHYSICAL', 'additions': {}}]\u001b[0m\n"
     ]
    }
   ],
   "source": [
    "cards = await retrieve_cards.ainvoke(\n",
    "    input={\"state\": card_agent_state},\n",
    "    config={\"configurable\": agent_configurable | {\"thread_id\": str(uuid4())}},\n",
    ")"
   ]
  },
  {
   "cell_type": "code",
   "execution_count": 13,
   "id": "24ff887a49c48e7f",
   "metadata": {
    "ExecuteTime": {
     "end_time": "2024-09-05T08:36:21.640887Z",
     "start_time": "2024-09-05T08:36:21.636288Z"
    }
   },
   "outputs": [
    {
     "name": "stdout",
     "output_type": "stream",
     "text": [
      "{'brand': 'mastercard',\n",
      " 'card_type': 'Debit',\n",
      " 'currency': 'USD',\n",
      " 'expiry_date': '2028-08-31',\n",
      " 'holder_name': 'Sara Williams',\n",
      " 'id': 'b465eb1e-5cba-4823-981f-acb26ea3b982',\n",
      " 'lock_status': 'UNLOCKED',\n",
      " 'replacement_status': 'NotUnderReplacement',\n",
      " 'status': 'Active'}\n",
      "{'brand': 'mastercard',\n",
      " 'card_type': 'Debit',\n",
      " 'currency': 'USD',\n",
      " 'expiry_date': '2028-08-31',\n",
      " 'holder_name': 'Sara Williams',\n",
      " 'id': 'd94b0808-f085-4ddd-be66-bd8fe67119a1',\n",
      " 'lock_status': 'UNLOCKED',\n",
      " 'replacement_status': 'Replaced',\n",
      " 'status': 'Cancelled'}\n"
     ]
    }
   ],
   "source": [
    "for card in cards:\n",
    "    pprint(card.dict())"
   ]
  },
  {
   "cell_type": "code",
   "execution_count": 14,
   "id": "f86536392bccde4d",
   "metadata": {
    "ExecuteTime": {
     "end_time": "2024-09-05T08:36:22.183400Z",
     "start_time": "2024-09-05T08:36:22.164878Z"
    }
   },
   "outputs": [
    {
     "data": {
      "text/plain": [
       "{'title': 'retrieve_cardsSchema',\n",
       " 'description': 'Retrieve a list of cards.',\n",
       " 'type': 'object',\n",
       " 'properties': {'state': {'$ref': '#/definitions/CardAgentState'}},\n",
       " 'required': ['state'],\n",
       " 'definitions': {'ToolCall': {'title': 'ToolCall',\n",
       "   'type': 'object',\n",
       "   'properties': {'name': {'title': 'Name', 'type': 'string'},\n",
       "    'args': {'title': 'Args', 'type': 'object'},\n",
       "    'id': {'title': 'Id', 'type': 'string'},\n",
       "    'type': {'title': 'Type', 'enum': ['tool_call'], 'type': 'string'}},\n",
       "   'required': ['name', 'args', 'id']},\n",
       "  'InvalidToolCall': {'title': 'InvalidToolCall',\n",
       "   'type': 'object',\n",
       "   'properties': {'name': {'title': 'Name', 'type': 'string'},\n",
       "    'args': {'title': 'Args', 'type': 'string'},\n",
       "    'id': {'title': 'Id', 'type': 'string'},\n",
       "    'error': {'title': 'Error', 'type': 'string'},\n",
       "    'type': {'title': 'Type',\n",
       "     'enum': ['invalid_tool_call'],\n",
       "     'type': 'string'}},\n",
       "   'required': ['name', 'args', 'id', 'error']},\n",
       "  'UsageMetadata': {'title': 'UsageMetadata',\n",
       "   'type': 'object',\n",
       "   'properties': {'input_tokens': {'title': 'Input Tokens', 'type': 'integer'},\n",
       "    'output_tokens': {'title': 'Output Tokens', 'type': 'integer'},\n",
       "    'total_tokens': {'title': 'Total Tokens', 'type': 'integer'}},\n",
       "   'required': ['input_tokens', 'output_tokens', 'total_tokens']},\n",
       "  'AIMessage': {'title': 'AIMessage',\n",
       "   'description': 'Message from an AI.\\n\\nAIMessage is returned from a chat model as a response to a prompt.\\n\\nThis message represents the output of the model and consists of both\\nthe raw output as returned by the model together standardized fields\\n(e.g., tool calls, usage metadata) added by the LangChain framework.',\n",
       "   'type': 'object',\n",
       "   'properties': {'content': {'title': 'Content',\n",
       "     'anyOf': [{'type': 'string'},\n",
       "      {'type': 'array',\n",
       "       'items': {'anyOf': [{'type': 'string'}, {'type': 'object'}]}}]},\n",
       "    'additional_kwargs': {'title': 'Additional Kwargs', 'type': 'object'},\n",
       "    'response_metadata': {'title': 'Response Metadata', 'type': 'object'},\n",
       "    'type': {'title': 'Type',\n",
       "     'default': 'ai',\n",
       "     'enum': ['ai'],\n",
       "     'type': 'string'},\n",
       "    'name': {'title': 'Name', 'type': 'string'},\n",
       "    'id': {'title': 'Id', 'type': 'string'},\n",
       "    'example': {'title': 'Example', 'default': False, 'type': 'boolean'},\n",
       "    'tool_calls': {'title': 'Tool Calls',\n",
       "     'default': [],\n",
       "     'type': 'array',\n",
       "     'items': {'$ref': '#/definitions/ToolCall'}},\n",
       "    'invalid_tool_calls': {'title': 'Invalid Tool Calls',\n",
       "     'default': [],\n",
       "     'type': 'array',\n",
       "     'items': {'$ref': '#/definitions/InvalidToolCall'}},\n",
       "    'usage_metadata': {'$ref': '#/definitions/UsageMetadata'}},\n",
       "   'required': ['content']},\n",
       "  'HumanMessage': {'title': 'HumanMessage',\n",
       "   'description': 'Message from a human.\\n\\nHumanMessages are messages that are passed in from a human to the model.\\n\\nExample:\\n\\n    .. code-block:: python\\n\\n        from langchain_core.messages import HumanMessage, SystemMessage\\n\\n        messages = [\\n            SystemMessage(\\n                content=\"You are a helpful assistant! Your name is Bob.\"\\n            ),\\n            HumanMessage(\\n                content=\"What is your name?\"\\n            )\\n        ]\\n\\n        # Instantiate a chat model and invoke it with the messages\\n        model = ...\\n        print(model.invoke(messages))',\n",
       "   'type': 'object',\n",
       "   'properties': {'content': {'title': 'Content',\n",
       "     'anyOf': [{'type': 'string'},\n",
       "      {'type': 'array',\n",
       "       'items': {'anyOf': [{'type': 'string'}, {'type': 'object'}]}}]},\n",
       "    'additional_kwargs': {'title': 'Additional Kwargs', 'type': 'object'},\n",
       "    'response_metadata': {'title': 'Response Metadata', 'type': 'object'},\n",
       "    'type': {'title': 'Type',\n",
       "     'default': 'human',\n",
       "     'enum': ['human'],\n",
       "     'type': 'string'},\n",
       "    'name': {'title': 'Name', 'type': 'string'},\n",
       "    'id': {'title': 'Id', 'type': 'string'},\n",
       "    'example': {'title': 'Example', 'default': False, 'type': 'boolean'}},\n",
       "   'required': ['content']},\n",
       "  'ChatMessage': {'title': 'ChatMessage',\n",
       "   'description': 'Message that can be assigned an arbitrary speaker (i.e. role).',\n",
       "   'type': 'object',\n",
       "   'properties': {'content': {'title': 'Content',\n",
       "     'anyOf': [{'type': 'string'},\n",
       "      {'type': 'array',\n",
       "       'items': {'anyOf': [{'type': 'string'}, {'type': 'object'}]}}]},\n",
       "    'additional_kwargs': {'title': 'Additional Kwargs', 'type': 'object'},\n",
       "    'response_metadata': {'title': 'Response Metadata', 'type': 'object'},\n",
       "    'type': {'title': 'Type',\n",
       "     'default': 'chat',\n",
       "     'enum': ['chat'],\n",
       "     'type': 'string'},\n",
       "    'name': {'title': 'Name', 'type': 'string'},\n",
       "    'id': {'title': 'Id', 'type': 'string'},\n",
       "    'role': {'title': 'Role', 'type': 'string'}},\n",
       "   'required': ['content', 'role']},\n",
       "  'SystemMessage': {'title': 'SystemMessage',\n",
       "   'description': 'Message for priming AI behavior.\\n\\nThe system message is usually passed in as the first of a sequence\\nof input messages.\\n\\nExample:\\n\\n    .. code-block:: python\\n\\n        from langchain_core.messages import HumanMessage, SystemMessage\\n\\n        messages = [\\n            SystemMessage(\\n                content=\"You are a helpful assistant! Your name is Bob.\"\\n            ),\\n            HumanMessage(\\n                content=\"What is your name?\"\\n            )\\n        ]\\n\\n        # Define a chat model and invoke it with the messages\\n        print(model.invoke(messages))',\n",
       "   'type': 'object',\n",
       "   'properties': {'content': {'title': 'Content',\n",
       "     'anyOf': [{'type': 'string'},\n",
       "      {'type': 'array',\n",
       "       'items': {'anyOf': [{'type': 'string'}, {'type': 'object'}]}}]},\n",
       "    'additional_kwargs': {'title': 'Additional Kwargs', 'type': 'object'},\n",
       "    'response_metadata': {'title': 'Response Metadata', 'type': 'object'},\n",
       "    'type': {'title': 'Type',\n",
       "     'default': 'system',\n",
       "     'enum': ['system'],\n",
       "     'type': 'string'},\n",
       "    'name': {'title': 'Name', 'type': 'string'},\n",
       "    'id': {'title': 'Id', 'type': 'string'}},\n",
       "   'required': ['content']},\n",
       "  'FunctionMessage': {'title': 'FunctionMessage',\n",
       "   'description': 'Message for passing the result of executing a tool back to a model.\\n\\nFunctionMessage are an older version of the ToolMessage schema, and\\ndo not contain the tool_call_id field.\\n\\nThe tool_call_id field is used to associate the tool call request with the\\ntool call response. This is useful in situations where a chat model is able\\nto request multiple tool calls in parallel.',\n",
       "   'type': 'object',\n",
       "   'properties': {'content': {'title': 'Content',\n",
       "     'anyOf': [{'type': 'string'},\n",
       "      {'type': 'array',\n",
       "       'items': {'anyOf': [{'type': 'string'}, {'type': 'object'}]}}]},\n",
       "    'additional_kwargs': {'title': 'Additional Kwargs', 'type': 'object'},\n",
       "    'response_metadata': {'title': 'Response Metadata', 'type': 'object'},\n",
       "    'type': {'title': 'Type',\n",
       "     'default': 'function',\n",
       "     'enum': ['function'],\n",
       "     'type': 'string'},\n",
       "    'name': {'title': 'Name', 'type': 'string'},\n",
       "    'id': {'title': 'Id', 'type': 'string'}},\n",
       "   'required': ['content', 'name']},\n",
       "  'ToolMessage': {'title': 'ToolMessage',\n",
       "   'description': 'Message for passing the result of executing a tool back to a model.\\n\\nToolMessages contain the result of a tool invocation. Typically, the result\\nis encoded inside the `content` field.\\n\\nExample: A ToolMessage representing a result of 42 from a tool call with id\\n\\n    .. code-block:: python\\n\\n        from langchain_core.messages import ToolMessage\\n\\n        ToolMessage(content=\\'42\\', tool_call_id=\\'call_Jja7J89XsjrOLA5r!MEOW!SL\\')\\n\\n\\nExample: A ToolMessage where only part of the tool output is sent to the model\\n    and the full output is passed in to artifact.\\n\\n    .. versionadded:: 0.2.17\\n\\n    .. code-block:: python\\n\\n        from langchain_core.messages import ToolMessage\\n\\n        tool_output = {\\n            \"stdout\": \"From the graph we can see that the correlation between x and y is ...\",\\n            \"stderr\": None,\\n            \"artifacts\": {\"type\": \"image\", \"base64_data\": \"/9j/4gIcSU...\"},\\n        }\\n\\n        ToolMessage(\\n            content=tool_output[\"stdout\"],\\n            artifact=tool_output,\\n            tool_call_id=\\'call_Jja7J89XsjrOLA5r!MEOW!SL\\',\\n        )\\n\\nThe tool_call_id field is used to associate the tool call request with the\\ntool call response. This is useful in situations where a chat model is able\\nto request multiple tool calls in parallel.',\n",
       "   'type': 'object',\n",
       "   'properties': {'content': {'title': 'Content',\n",
       "     'anyOf': [{'type': 'string'},\n",
       "      {'type': 'array',\n",
       "       'items': {'anyOf': [{'type': 'string'}, {'type': 'object'}]}}]},\n",
       "    'additional_kwargs': {'title': 'Additional Kwargs', 'type': 'object'},\n",
       "    'response_metadata': {'title': 'Response Metadata', 'type': 'object'},\n",
       "    'type': {'title': 'Type',\n",
       "     'default': 'tool',\n",
       "     'enum': ['tool'],\n",
       "     'type': 'string'},\n",
       "    'name': {'title': 'Name', 'type': 'string'},\n",
       "    'id': {'title': 'Id', 'type': 'string'},\n",
       "    'tool_call_id': {'title': 'Tool Call Id', 'type': 'string'},\n",
       "    'artifact': {'title': 'Artifact'},\n",
       "    'status': {'title': 'Status',\n",
       "     'default': 'success',\n",
       "     'enum': ['success', 'error'],\n",
       "     'type': 'string'}},\n",
       "   'required': ['content', 'tool_call_id']},\n",
       "  'Card': {'title': 'Card',\n",
       "   'type': 'object',\n",
       "   'properties': {'id': {'title': 'Id', 'type': 'string'},\n",
       "    'brand': {'title': 'Brand', 'type': 'string'},\n",
       "    'card_type': {'title': 'Card Type', 'type': 'string'},\n",
       "    'status': {'title': 'Status', 'type': 'string'},\n",
       "    'lock_status': {'title': 'Lock Status', 'type': 'string'},\n",
       "    'replacement_status': {'title': 'Replacement Status', 'type': 'string'},\n",
       "    'holder_name': {'title': 'Holder Name', 'type': 'string'},\n",
       "    'currency': {'title': 'Currency', 'type': 'string'},\n",
       "    'expiry_date': {'title': 'Expiry Date', 'type': 'string'}},\n",
       "   'required': ['id',\n",
       "    'brand',\n",
       "    'card_type',\n",
       "    'status',\n",
       "    'currency',\n",
       "    'expiry_date']},\n",
       "  'CardAgentState': {'title': 'CardAgentState',\n",
       "   'type': 'object',\n",
       "   'properties': {'messages': {'title': 'Messages',\n",
       "     'type': 'array',\n",
       "     'items': {'anyOf': [{'$ref': '#/definitions/AIMessage'},\n",
       "       {'$ref': '#/definitions/HumanMessage'},\n",
       "       {'$ref': '#/definitions/ChatMessage'},\n",
       "       {'$ref': '#/definitions/SystemMessage'},\n",
       "       {'$ref': '#/definitions/FunctionMessage'},\n",
       "       {'$ref': '#/definitions/ToolMessage'}]}},\n",
       "    'responses': {'title': 'Responses',\n",
       "     'type': 'array',\n",
       "     'items': {'type': 'string'}},\n",
       "    'cards': {'title': 'Cards',\n",
       "     'type': 'object',\n",
       "     'additionalProperties': {'$ref': '#/definitions/Card'}}},\n",
       "   'required': ['messages', 'responses', 'cards']}}}"
      ]
     },
     "execution_count": 14,
     "metadata": {},
     "output_type": "execute_result"
    }
   ],
   "source": [
    "retrieve_cards.get_input_schema().schema()"
   ]
  },
  {
   "cell_type": "code",
   "execution_count": 15,
   "id": "3a663649868d36cd",
   "metadata": {
    "ExecuteTime": {
     "end_time": "2024-09-05T08:36:22.415643Z",
     "start_time": "2024-09-05T08:36:22.410624Z"
    }
   },
   "outputs": [
    {
     "data": {
      "text/plain": [
       "{'title': 'retrieve_cards',\n",
       " 'description': 'Retrieve a list of cards.',\n",
       " 'type': 'object',\n",
       " 'properties': {}}"
      ]
     },
     "execution_count": 15,
     "metadata": {},
     "output_type": "execute_result"
    }
   ],
   "source": [
    "retrieve_cards.tool_call_schema.schema()"
   ]
  },
  {
   "cell_type": "code",
   "execution_count": 16,
   "id": "c2781299c2ca6f8d",
   "metadata": {
    "ExecuteTime": {
     "end_time": "2024-09-05T08:36:24.503214Z",
     "start_time": "2024-09-05T08:36:22.899943Z"
    }
   },
   "outputs": [
    {
     "name": "stdout",
     "output_type": "stream",
     "text": [
      "\u001b[32m2024-09-06 08:39:25.892\u001b[0m | \u001b[1mINFO    \u001b[0m | \u001b[36mapp.assistant.card.nodes\u001b[0m:\u001b[36mget_cards\u001b[0m:\u001b[36m46\u001b[0m | c3be4896-1464-400c-bd5c-55fef2069815  - \u001b[1mRetrieve a list of cards...\u001b[0m\n",
      "\u001b[32m2024-09-06 08:39:25.893\u001b[0m | \u001b[34m\u001b[1mDEBUG   \u001b[0m | \u001b[36mapp.bb_retail.request\u001b[0m:\u001b[36mlist_cards\u001b[0m:\u001b[36m114\u001b[0m | c3be4896-1464-400c-bd5c-55fef2069815  - \u001b[34m\u001b[1mGetting list cards...\u001b[0m\n",
      "\u001b[32m2024-09-06 08:39:25.894\u001b[0m | \u001b[34m\u001b[1mDEBUG   \u001b[0m | \u001b[36mapp.bb_retail.request\u001b[0m:\u001b[36m_make_request\u001b[0m:\u001b[36m151\u001b[0m | c3be4896-1464-400c-bd5c-55fef2069815  - \u001b[34m\u001b[1mMaking request to https://retail.stg.sdbxaz.azure.backbaseservices.com/api/cards-presentation-service/client-api/v2/cards...\u001b[0m\n",
      "\u001b[32m2024-09-06 08:39:27.444\u001b[0m | \u001b[34m\u001b[1mDEBUG   \u001b[0m | \u001b[36mapp.bb_retail.request\u001b[0m:\u001b[36mlist_cards\u001b[0m:\u001b[36m119\u001b[0m | c3be4896-1464-400c-bd5c-55fef2069815  - \u001b[34m\u001b[1mResponse from _make_request: [{'id': 'b465eb1e-5cba-4823-981f-acb26ea3b982', 'brand': 'mastercard', 'type': 'Debit', 'status': 'Active', 'lockStatus': 'UNLOCKED', 'replacement': {'status': 'NotUnderReplacement', 'additions': {}}, 'holder': {'name': 'Sara Williams', 'additions': {}}, 'expiryDate': {'year': '2028', 'month': '08', 'additions': {}}, 'currency': 'USD', 'maskedNumber': '0142', 'limits': [{'id': '4832eba8-174a-44df-9955-9ea8d405b7bb', 'channel': 'atm', 'frequency': 'DAILY', 'amount': 5000, 'maxAmount': 10000, 'minAmount': 0, 'additions': {}}, {'id': 'ef128b74-de3a-4b4b-a0bf-8d282c525ada', 'channel': 'online', 'frequency': 'DAILY', 'amount': 5000, 'maxAmount': 10000, 'minAmount': 0, 'additions': {}}, {'id': 'fcc5bf0c-a084-4e0a-86db-ed5ba18d5826', 'channel': 'atm', 'frequency': 'DAILY', 'amount': 5000, 'maxAmount': 10000, 'minAmount': 0, 'additions': {}}, {'id': 'cd2ff725-2f17-4ada-9ca8-04619374af0d', 'channel': 'online', 'frequency': 'DAILY', 'amount': 5000, 'maxAmount': 10000, 'minAmount': 0, 'additions': {}}, {'id': '11ab3d10-7978-49bd-8136-7c8eaf13f25d', 'channel': 'atm', 'frequency': 'DAILY', 'amount': 5000, 'maxAmount': 10000, 'minAmount': 0, 'additions': {}}], 'cardVisual': {'frontImageURL': 'https://cards-assets.stg.sdbxaz.azure.backbaseservices.com/assets/BackbaseStandard.png'}, 'instrument': 'PHYSICAL', 'additions': {}}, {'id': 'd94b0808-f085-4ddd-be66-bd8fe67119a1', 'brand': 'mastercard', 'type': 'Debit', 'status': 'Cancelled', 'lockStatus': 'UNLOCKED', 'replacement': {'status': 'Replaced', 'reason': 'Lost', 'replacedById': 'b465eb1e-5cba-4823-981f-acb26ea3b982', 'additions': {}}, 'holder': {'name': 'Sara Williams', 'additions': {}}, 'expiryDate': {'year': '2028', 'month': '08', 'additions': {}}, 'currency': 'USD', 'maskedNumber': '5701', 'limits': [{'id': '4832eba8-174a-44df-9955-9ea8d405b7bb', 'channel': 'atm', 'frequency': 'DAILY', 'amount': 5000, 'maxAmount': 10000, 'minAmount': 0, 'additions': {}}, {'id': 'ef128b74-de3a-4b4b-a0bf-8d282c525ada', 'channel': 'online', 'frequency': 'DAILY', 'amount': 5000, 'maxAmount': 10000, 'minAmount': 0, 'additions': {}}, {'id': 'fcc5bf0c-a084-4e0a-86db-ed5ba18d5826', 'channel': 'atm', 'frequency': 'DAILY', 'amount': 5000, 'maxAmount': 10000, 'minAmount': 0, 'additions': {}}, {'id': 'cd2ff725-2f17-4ada-9ca8-04619374af0d', 'channel': 'online', 'frequency': 'DAILY', 'amount': 5000, 'maxAmount': 10000, 'minAmount': 0, 'additions': {}}, {'id': '11ab3d10-7978-49bd-8136-7c8eaf13f25d', 'channel': 'atm', 'frequency': 'DAILY', 'amount': 5000, 'maxAmount': 10000, 'minAmount': 0, 'additions': {}}], 'cardVisual': {'frontImageURL': 'https://cards-assets.stg.sdbxaz.azure.backbaseservices.com/assets/BackbaseStandard.png'}, 'instrument': 'PHYSICAL', 'additions': {}}]\u001b[0m\n"
     ]
    }
   ],
   "source": [
    "renewable_cards = await retrieve_renewable_cards.arun(\n",
    "    tool_input={\"state\": card_agent_state},\n",
    "    config={\"configurable\": agent_configurable | {\"thread_id\": str(uuid4())}},\n",
    ")"
   ]
  },
  {
   "cell_type": "code",
   "execution_count": 17,
   "id": "458bd4ebcacae5d7",
   "metadata": {
    "ExecuteTime": {
     "end_time": "2024-09-05T08:36:25.623156Z",
     "start_time": "2024-09-05T08:36:25.611170Z"
    }
   },
   "outputs": [
    {
     "data": {
      "text/plain": [
       "{'title': 'retrieve_renewable_cardsSchema',\n",
       " 'description': 'Retrieve a list of expired or nearly expired cards.',\n",
       " 'type': 'object',\n",
       " 'properties': {'state': {'$ref': '#/definitions/CardAgentState'},\n",
       "  'expired_days': {'title': 'Expired Days',\n",
       "   'description': 'Number of days before expiry. Input only an integer number without any operator',\n",
       "   'default': 30,\n",
       "   'type': 'integer'}},\n",
       " 'required': ['state'],\n",
       " 'definitions': {'ToolCall': {'title': 'ToolCall',\n",
       "   'type': 'object',\n",
       "   'properties': {'name': {'title': 'Name', 'type': 'string'},\n",
       "    'args': {'title': 'Args', 'type': 'object'},\n",
       "    'id': {'title': 'Id', 'type': 'string'},\n",
       "    'type': {'title': 'Type', 'enum': ['tool_call'], 'type': 'string'}},\n",
       "   'required': ['name', 'args', 'id']},\n",
       "  'InvalidToolCall': {'title': 'InvalidToolCall',\n",
       "   'type': 'object',\n",
       "   'properties': {'name': {'title': 'Name', 'type': 'string'},\n",
       "    'args': {'title': 'Args', 'type': 'string'},\n",
       "    'id': {'title': 'Id', 'type': 'string'},\n",
       "    'error': {'title': 'Error', 'type': 'string'},\n",
       "    'type': {'title': 'Type',\n",
       "     'enum': ['invalid_tool_call'],\n",
       "     'type': 'string'}},\n",
       "   'required': ['name', 'args', 'id', 'error']},\n",
       "  'UsageMetadata': {'title': 'UsageMetadata',\n",
       "   'type': 'object',\n",
       "   'properties': {'input_tokens': {'title': 'Input Tokens', 'type': 'integer'},\n",
       "    'output_tokens': {'title': 'Output Tokens', 'type': 'integer'},\n",
       "    'total_tokens': {'title': 'Total Tokens', 'type': 'integer'}},\n",
       "   'required': ['input_tokens', 'output_tokens', 'total_tokens']},\n",
       "  'AIMessage': {'title': 'AIMessage',\n",
       "   'description': 'Message from an AI.\\n\\nAIMessage is returned from a chat model as a response to a prompt.\\n\\nThis message represents the output of the model and consists of both\\nthe raw output as returned by the model together standardized fields\\n(e.g., tool calls, usage metadata) added by the LangChain framework.',\n",
       "   'type': 'object',\n",
       "   'properties': {'content': {'title': 'Content',\n",
       "     'anyOf': [{'type': 'string'},\n",
       "      {'type': 'array',\n",
       "       'items': {'anyOf': [{'type': 'string'}, {'type': 'object'}]}}]},\n",
       "    'additional_kwargs': {'title': 'Additional Kwargs', 'type': 'object'},\n",
       "    'response_metadata': {'title': 'Response Metadata', 'type': 'object'},\n",
       "    'type': {'title': 'Type',\n",
       "     'default': 'ai',\n",
       "     'enum': ['ai'],\n",
       "     'type': 'string'},\n",
       "    'name': {'title': 'Name', 'type': 'string'},\n",
       "    'id': {'title': 'Id', 'type': 'string'},\n",
       "    'example': {'title': 'Example', 'default': False, 'type': 'boolean'},\n",
       "    'tool_calls': {'title': 'Tool Calls',\n",
       "     'default': [],\n",
       "     'type': 'array',\n",
       "     'items': {'$ref': '#/definitions/ToolCall'}},\n",
       "    'invalid_tool_calls': {'title': 'Invalid Tool Calls',\n",
       "     'default': [],\n",
       "     'type': 'array',\n",
       "     'items': {'$ref': '#/definitions/InvalidToolCall'}},\n",
       "    'usage_metadata': {'$ref': '#/definitions/UsageMetadata'}},\n",
       "   'required': ['content']},\n",
       "  'HumanMessage': {'title': 'HumanMessage',\n",
       "   'description': 'Message from a human.\\n\\nHumanMessages are messages that are passed in from a human to the model.\\n\\nExample:\\n\\n    .. code-block:: python\\n\\n        from langchain_core.messages import HumanMessage, SystemMessage\\n\\n        messages = [\\n            SystemMessage(\\n                content=\"You are a helpful assistant! Your name is Bob.\"\\n            ),\\n            HumanMessage(\\n                content=\"What is your name?\"\\n            )\\n        ]\\n\\n        # Instantiate a chat model and invoke it with the messages\\n        model = ...\\n        print(model.invoke(messages))',\n",
       "   'type': 'object',\n",
       "   'properties': {'content': {'title': 'Content',\n",
       "     'anyOf': [{'type': 'string'},\n",
       "      {'type': 'array',\n",
       "       'items': {'anyOf': [{'type': 'string'}, {'type': 'object'}]}}]},\n",
       "    'additional_kwargs': {'title': 'Additional Kwargs', 'type': 'object'},\n",
       "    'response_metadata': {'title': 'Response Metadata', 'type': 'object'},\n",
       "    'type': {'title': 'Type',\n",
       "     'default': 'human',\n",
       "     'enum': ['human'],\n",
       "     'type': 'string'},\n",
       "    'name': {'title': 'Name', 'type': 'string'},\n",
       "    'id': {'title': 'Id', 'type': 'string'},\n",
       "    'example': {'title': 'Example', 'default': False, 'type': 'boolean'}},\n",
       "   'required': ['content']},\n",
       "  'ChatMessage': {'title': 'ChatMessage',\n",
       "   'description': 'Message that can be assigned an arbitrary speaker (i.e. role).',\n",
       "   'type': 'object',\n",
       "   'properties': {'content': {'title': 'Content',\n",
       "     'anyOf': [{'type': 'string'},\n",
       "      {'type': 'array',\n",
       "       'items': {'anyOf': [{'type': 'string'}, {'type': 'object'}]}}]},\n",
       "    'additional_kwargs': {'title': 'Additional Kwargs', 'type': 'object'},\n",
       "    'response_metadata': {'title': 'Response Metadata', 'type': 'object'},\n",
       "    'type': {'title': 'Type',\n",
       "     'default': 'chat',\n",
       "     'enum': ['chat'],\n",
       "     'type': 'string'},\n",
       "    'name': {'title': 'Name', 'type': 'string'},\n",
       "    'id': {'title': 'Id', 'type': 'string'},\n",
       "    'role': {'title': 'Role', 'type': 'string'}},\n",
       "   'required': ['content', 'role']},\n",
       "  'SystemMessage': {'title': 'SystemMessage',\n",
       "   'description': 'Message for priming AI behavior.\\n\\nThe system message is usually passed in as the first of a sequence\\nof input messages.\\n\\nExample:\\n\\n    .. code-block:: python\\n\\n        from langchain_core.messages import HumanMessage, SystemMessage\\n\\n        messages = [\\n            SystemMessage(\\n                content=\"You are a helpful assistant! Your name is Bob.\"\\n            ),\\n            HumanMessage(\\n                content=\"What is your name?\"\\n            )\\n        ]\\n\\n        # Define a chat model and invoke it with the messages\\n        print(model.invoke(messages))',\n",
       "   'type': 'object',\n",
       "   'properties': {'content': {'title': 'Content',\n",
       "     'anyOf': [{'type': 'string'},\n",
       "      {'type': 'array',\n",
       "       'items': {'anyOf': [{'type': 'string'}, {'type': 'object'}]}}]},\n",
       "    'additional_kwargs': {'title': 'Additional Kwargs', 'type': 'object'},\n",
       "    'response_metadata': {'title': 'Response Metadata', 'type': 'object'},\n",
       "    'type': {'title': 'Type',\n",
       "     'default': 'system',\n",
       "     'enum': ['system'],\n",
       "     'type': 'string'},\n",
       "    'name': {'title': 'Name', 'type': 'string'},\n",
       "    'id': {'title': 'Id', 'type': 'string'}},\n",
       "   'required': ['content']},\n",
       "  'FunctionMessage': {'title': 'FunctionMessage',\n",
       "   'description': 'Message for passing the result of executing a tool back to a model.\\n\\nFunctionMessage are an older version of the ToolMessage schema, and\\ndo not contain the tool_call_id field.\\n\\nThe tool_call_id field is used to associate the tool call request with the\\ntool call response. This is useful in situations where a chat model is able\\nto request multiple tool calls in parallel.',\n",
       "   'type': 'object',\n",
       "   'properties': {'content': {'title': 'Content',\n",
       "     'anyOf': [{'type': 'string'},\n",
       "      {'type': 'array',\n",
       "       'items': {'anyOf': [{'type': 'string'}, {'type': 'object'}]}}]},\n",
       "    'additional_kwargs': {'title': 'Additional Kwargs', 'type': 'object'},\n",
       "    'response_metadata': {'title': 'Response Metadata', 'type': 'object'},\n",
       "    'type': {'title': 'Type',\n",
       "     'default': 'function',\n",
       "     'enum': ['function'],\n",
       "     'type': 'string'},\n",
       "    'name': {'title': 'Name', 'type': 'string'},\n",
       "    'id': {'title': 'Id', 'type': 'string'}},\n",
       "   'required': ['content', 'name']},\n",
       "  'ToolMessage': {'title': 'ToolMessage',\n",
       "   'description': 'Message for passing the result of executing a tool back to a model.\\n\\nToolMessages contain the result of a tool invocation. Typically, the result\\nis encoded inside the `content` field.\\n\\nExample: A ToolMessage representing a result of 42 from a tool call with id\\n\\n    .. code-block:: python\\n\\n        from langchain_core.messages import ToolMessage\\n\\n        ToolMessage(content=\\'42\\', tool_call_id=\\'call_Jja7J89XsjrOLA5r!MEOW!SL\\')\\n\\n\\nExample: A ToolMessage where only part of the tool output is sent to the model\\n    and the full output is passed in to artifact.\\n\\n    .. versionadded:: 0.2.17\\n\\n    .. code-block:: python\\n\\n        from langchain_core.messages import ToolMessage\\n\\n        tool_output = {\\n            \"stdout\": \"From the graph we can see that the correlation between x and y is ...\",\\n            \"stderr\": None,\\n            \"artifacts\": {\"type\": \"image\", \"base64_data\": \"/9j/4gIcSU...\"},\\n        }\\n\\n        ToolMessage(\\n            content=tool_output[\"stdout\"],\\n            artifact=tool_output,\\n            tool_call_id=\\'call_Jja7J89XsjrOLA5r!MEOW!SL\\',\\n        )\\n\\nThe tool_call_id field is used to associate the tool call request with the\\ntool call response. This is useful in situations where a chat model is able\\nto request multiple tool calls in parallel.',\n",
       "   'type': 'object',\n",
       "   'properties': {'content': {'title': 'Content',\n",
       "     'anyOf': [{'type': 'string'},\n",
       "      {'type': 'array',\n",
       "       'items': {'anyOf': [{'type': 'string'}, {'type': 'object'}]}}]},\n",
       "    'additional_kwargs': {'title': 'Additional Kwargs', 'type': 'object'},\n",
       "    'response_metadata': {'title': 'Response Metadata', 'type': 'object'},\n",
       "    'type': {'title': 'Type',\n",
       "     'default': 'tool',\n",
       "     'enum': ['tool'],\n",
       "     'type': 'string'},\n",
       "    'name': {'title': 'Name', 'type': 'string'},\n",
       "    'id': {'title': 'Id', 'type': 'string'},\n",
       "    'tool_call_id': {'title': 'Tool Call Id', 'type': 'string'},\n",
       "    'artifact': {'title': 'Artifact'},\n",
       "    'status': {'title': 'Status',\n",
       "     'default': 'success',\n",
       "     'enum': ['success', 'error'],\n",
       "     'type': 'string'}},\n",
       "   'required': ['content', 'tool_call_id']},\n",
       "  'Card': {'title': 'Card',\n",
       "   'type': 'object',\n",
       "   'properties': {'id': {'title': 'Id', 'type': 'string'},\n",
       "    'brand': {'title': 'Brand', 'type': 'string'},\n",
       "    'card_type': {'title': 'Card Type', 'type': 'string'},\n",
       "    'status': {'title': 'Status', 'type': 'string'},\n",
       "    'lock_status': {'title': 'Lock Status', 'type': 'string'},\n",
       "    'replacement_status': {'title': 'Replacement Status', 'type': 'string'},\n",
       "    'holder_name': {'title': 'Holder Name', 'type': 'string'},\n",
       "    'currency': {'title': 'Currency', 'type': 'string'},\n",
       "    'expiry_date': {'title': 'Expiry Date', 'type': 'string'}},\n",
       "   'required': ['id',\n",
       "    'brand',\n",
       "    'card_type',\n",
       "    'status',\n",
       "    'currency',\n",
       "    'expiry_date']},\n",
       "  'CardAgentState': {'title': 'CardAgentState',\n",
       "   'type': 'object',\n",
       "   'properties': {'messages': {'title': 'Messages',\n",
       "     'type': 'array',\n",
       "     'items': {'anyOf': [{'$ref': '#/definitions/AIMessage'},\n",
       "       {'$ref': '#/definitions/HumanMessage'},\n",
       "       {'$ref': '#/definitions/ChatMessage'},\n",
       "       {'$ref': '#/definitions/SystemMessage'},\n",
       "       {'$ref': '#/definitions/FunctionMessage'},\n",
       "       {'$ref': '#/definitions/ToolMessage'}]}},\n",
       "    'responses': {'title': 'Responses',\n",
       "     'type': 'array',\n",
       "     'items': {'type': 'string'}},\n",
       "    'cards': {'title': 'Cards',\n",
       "     'type': 'object',\n",
       "     'additionalProperties': {'$ref': '#/definitions/Card'}}},\n",
       "   'required': ['messages', 'responses', 'cards']}}}"
      ]
     },
     "execution_count": 17,
     "metadata": {},
     "output_type": "execute_result"
    }
   ],
   "source": [
    "retrieve_renewable_cards.get_input_schema().schema()"
   ]
  },
  {
   "cell_type": "code",
   "execution_count": 18,
   "id": "e203f30a0262abe0",
   "metadata": {
    "ExecuteTime": {
     "end_time": "2024-09-05T08:36:29.182658Z",
     "start_time": "2024-09-05T08:36:29.178988Z"
    }
   },
   "outputs": [
    {
     "data": {
      "text/plain": [
       "{'title': 'retrieve_cards',\n",
       " 'description': 'Retrieve a list of cards.',\n",
       " 'type': 'object',\n",
       " 'properties': {}}"
      ]
     },
     "execution_count": 18,
     "metadata": {},
     "output_type": "execute_result"
    }
   ],
   "source": [
    "retrieve_cards.tool_call_schema.schema()"
   ]
  },
  {
   "cell_type": "code",
   "execution_count": 19,
   "id": "566e0b5c51589bb2",
   "metadata": {
    "ExecuteTime": {
     "end_time": "2024-09-05T08:36:30.175499Z",
     "start_time": "2024-09-05T08:36:30.075168Z"
    },
    "lines_to_next_cell": 2
   },
   "outputs": [],
   "source": [
    "llm_model_with_tools = llm_model.bind_tools([retrieve_cards, retrieve_renewable_cards])"
   ]
  },
  {
   "cell_type": "markdown",
   "id": "f00663e266bc85e3",
   "metadata": {
    "lines_to_next_cell": 2
   },
   "source": [
    "# Agent"
   ]
  },
  {
   "cell_type": "code",
   "execution_count": 20,
   "id": "56cacf2e7a8cae86",
   "metadata": {
    "ExecuteTime": {
     "end_time": "2024-09-05T08:36:32.140868Z",
     "start_time": "2024-09-05T08:36:32.138677Z"
    }
   },
   "outputs": [],
   "source": [
    "def route_tools(\n",
    "    state: CardAgentState,\n",
    ") -> Literal[\"retrieve_cards\", \"retrieve_renewable_cards\", \"__end__\"]:\n",
    "    \"\"\"Route the tools.\"\"\"\n",
    "    next_node = tools_condition(state[\"messages\"])\n",
    "\n",
    "    if next_node == END:\n",
    "        return \"__end__\"\n",
    "\n",
    "    ai_message = state[\"messages\"][-1]\n",
    "    tool_call = ai_message.tool_calls[0]  # type: ignore # noqa: PGH003\n",
    "\n",
    "    return tool_call.get(\"name\", \"__end__\")"
   ]
  },
  {
   "cell_type": "code",
   "execution_count": 21,
   "id": "babe4f00a5fcdd4d",
   "metadata": {
    "ExecuteTime": {
     "end_time": "2024-09-05T08:36:33.275937Z",
     "start_time": "2024-09-05T08:36:33.273547Z"
    }
   },
   "outputs": [],
   "source": [
    "system_message_content = \"\"\"You are a helpful banking card assistant.\n",
    "You can use retrieve_cards tool to get all cards that the user has, and retrieve_renewable_cards tool to get all cards that are expired or nearly expired.\n",
    "If the user requests other things than card, then say that you can only help with the cards.\"\"\""
   ]
  },
  {
   "cell_type": "code",
   "execution_count": 22,
   "id": "3b367c28741299b7",
   "metadata": {
    "ExecuteTime": {
     "end_time": "2024-09-05T08:36:33.990799Z",
     "start_time": "2024-09-05T08:36:33.988235Z"
    }
   },
   "outputs": [],
   "source": [
    "def call_model(state: CardAgentState):\n",
    "    messages = state[\"messages\"]\n",
    "    system_message = SystemMessage(content=system_message_content)\n",
    "    messages = [system_message, *messages]\n",
    "    response = llm_model_with_tools.invoke(messages)\n",
    "    return {\"messages\": [response]}"
   ]
  },
  {
   "cell_type": "code",
   "execution_count": 23,
   "id": "18d68aa1",
   "metadata": {
    "lines_to_next_cell": 2
   },
   "outputs": [],
   "source": [
    "def update_state(state: CardAgentState) -> dict[str, Card]:\n",
    "    messages = state[\"messages\"]\n",
    "    tool_call_content = eval(messages[-1].content)\n",
    "    card_dict = {card.id: card for card in tool_call_content}\n",
    "\n",
    "    return {\"cards\": card_dict}"
   ]
  },
  {
   "cell_type": "code",
   "execution_count": 24,
   "id": "a9519aa5",
   "metadata": {},
   "outputs": [],
   "source": [
    "\n",
    "\n",
    "def available_renewable_card(\n",
    "    state: CardAgentState, config: RunnableConfig\n",
    ") -> dict[str, Any]:\n",
    "    agent_config = config[\"configurable\"]\n",
    "    message = \"I found the following cards that are renewable. Which one do you want to renew?\"\n",
    "\n",
    "    response = ChatRespDto(\n",
    "        action=ChatRespAction.SHOW_CHOICES,\n",
    "        thread_id=agent_config[\"thread_id\"],\n",
    "        response=message,\n",
    "        metadata=_build_choices_from_card_list(state[\"cards\"]),\n",
    "    )\n",
    "\n",
    "    return {\n",
    "        \"responses\": [response.model_dump_json()],\n",
    "        \"messages\": [AIMessage(content=message)],\n",
    "    }\n",
    "\n",
    "\n",
    "def no_available_renewable_card(\n",
    "    state: CardAgentState,\n",
    "    config: RunnableConfig,\n",
    ") -> dict[str, Any]:\n",
    "    agent_config = config[\"configurable\"]\n",
    "    message = \"I didn't find any renewable card from your profile.\"\n",
    "\n",
    "    response = ChatRespDto(\n",
    "        action=ChatRespAction.SHOW_REPLY,\n",
    "        thread_id=agent_config[\"thread_id\"],\n",
    "        response=message,\n",
    "        metadata=None,\n",
    "    )\n",
    "\n",
    "    return {\n",
    "        \"responses\": [response.model_dump_json()],\n",
    "        \"messages\": [AIMessage(content=message)],\n",
    "    }\n",
    "\n",
    "\n",
    "def branch_retrieve_renewable_cards(state: CardAgentState):\n",
    "    cards = state[\"cards\"]\n",
    "\n",
    "    if len(cards) == 0:\n",
    "        return \"no_available_renewable_card\"\n",
    "\n",
    "    return \"available_renewable_card\""
   ]
  },
  {
   "cell_type": "code",
   "execution_count": 25,
   "id": "d22449c3",
   "metadata": {},
   "outputs": [],
   "source": [
    "def renewable_card_choice(\n",
    "    state: CardAgentState,\n",
    "    config: RunnableConfig,\n",
    ") -> dict[str, Any]:\n",
    "    return {}"
   ]
  },
  {
   "cell_type": "code",
   "execution_count": 26,
   "id": "726114df",
   "metadata": {},
   "outputs": [],
   "source": [
    "def review_renewable_card_info(\n",
    "    state: CardAgentState,\n",
    "    config: RunnableConfig,\n",
    ") -> dict[str, Any]:\n",
    "    agent_config = config[\"configurable\"]\n",
    "    message = \"Let's review your renewable card info!\"\n",
    "\n",
    "    card = list(state[\"cards\"].values())[0]\n",
    "\n",
    "    response = ChatRespDto(\n",
    "        action=ChatRespAction.RENEW_CARD,\n",
    "        thread_id=agent_config[\"thread_id\"],\n",
    "        response=message,\n",
    "        metadata=ChatRespMetadataForRenewCard(\n",
    "            card=card.dict(),\n",
    "        ),\n",
    "    )\n",
    "\n",
    "    return {\n",
    "        \"responses\": [response.model_dump_json()],\n",
    "        \"messages\": [AIMessage(content=message)],\n",
    "    }"
   ]
  },
  {
   "cell_type": "code",
   "execution_count": 27,
   "id": "d9490217fd53444b",
   "metadata": {
    "ExecuteTime": {
     "end_time": "2024-09-05T08:36:34.485140Z",
     "start_time": "2024-09-05T08:36:34.481481Z"
    }
   },
   "outputs": [],
   "source": [
    "workflow = StateGraph(CardAgentState)\n",
    "\n",
    "# Define the two nodes we will cycle between\n",
    "workflow.add_node(\"agent\", call_model)\n",
    "workflow.add_node(\"retrieve_cards\", ToolNode([retrieve_cards]))\n",
    "workflow.add_node(\"retrieve_renewable_cards\", ToolNode([retrieve_renewable_cards]))\n",
    "workflow.add_node(\"update_state\", update_state)\n",
    "workflow.add_node(\"available_renewable_card\", available_renewable_card)\n",
    "workflow.add_node(\"no_available_renewable_card\", no_available_renewable_card)\n",
    "workflow.add_node(\"renewable_card_choice\", renewable_card_choice)\n",
    "workflow.add_node(\"review_renewable_card_info\", review_renewable_card_info)\n",
    "\n",
    "\n",
    "workflow.set_entry_point(\"agent\")\n",
    "workflow.add_conditional_edges(\n",
    "    source=\"agent\",\n",
    "    path=route_tools,\n",
    ")\n",
    "\n",
    "workflow.add_edge(\"retrieve_cards\", \"agent\")\n",
    "# workflow.add_edge(\"retrieve_renewable_cards\", \"agent\")\n",
    "workflow.add_edge(\"retrieve_renewable_cards\", \"update_state\")\n",
    "workflow.add_conditional_edges(\n",
    "    source=\"update_state\",\n",
    "    path=branch_retrieve_renewable_cards,\n",
    "    path_map={\n",
    "        \"available_renewable_card\": \"available_renewable_card\",\n",
    "        \"no_available_renewable_card\": \"no_available_renewable_card\",\n",
    "    },\n",
    ")\n",
    "workflow.add_edge(\"available_renewable_card\", \"renewable_card_choice\")\n",
    "workflow.add_edge(\"no_available_renewable_card\", \"__end__\")\n",
    "workflow.add_edge(\"renewable_card_choice\", \"review_renewable_card_info\")\n",
    "workflow.add_edge(\"review_renewable_card_info\", \"__end__\")\n",
    "\n",
    "graph = workflow.compile(\n",
    "    checkpointer=amemory, interrupt_before=[\"renewable_card_choice\"]\n",
    ")"
   ]
  },
  {
   "cell_type": "code",
   "execution_count": 28,
   "id": "e01f82b8dd59ca61",
   "metadata": {
    "ExecuteTime": {
     "end_time": "2024-09-05T08:36:37.111686Z",
     "start_time": "2024-09-05T08:36:35.132706Z"
    }
   },
   "outputs": [
    {
     "data": {
      "image/jpeg": "[encoded data removed]",
      "text/plain": [
       "<IPython.core.display.Image object>"
      ]
     },
     "metadata": {},
     "output_type": "display_data"
    }
   ],
   "source": [
    "display(Image(graph.get_graph().draw_mermaid_png()))"
   ]
  },
  {
   "cell_type": "code",
   "execution_count": 29,
   "id": "df9f5ef0b707479d",
   "metadata": {
    "ExecuteTime": {
     "end_time": "2024-09-05T08:36:38.404126Z",
     "start_time": "2024-09-05T08:36:38.401400Z"
    }
   },
   "outputs": [],
   "source": [
    "thread_id = str(uuid4())\n",
    "config = {\"configurable\": {\"thread_id\": thread_id} | agent_configurable}"
   ]
  },
  {
   "cell_type": "code",
   "execution_count": 31,
   "id": "608dac6ea2459f5c",
   "metadata": {
    "ExecuteTime": {
     "end_time": "2024-09-05T08:36:46.685160Z",
     "start_time": "2024-09-05T08:36:39.040839Z"
    }
   },
   "outputs": [
    {
     "name": "stdout",
     "output_type": "stream",
     "text": [
      "================================\u001b[1m Human Message \u001b[0m=================================\n",
      "\n",
      "how many cards do i have?\n",
      "==================================\u001b[1m Ai Message \u001b[0m==================================\n",
      "Tool Calls:\n",
      "  retrieve_cards (call_b3xP1bf2UT2po6nipcsviX36)\n",
      " Call ID: call_b3xP1bf2UT2po6nipcsviX36\n",
      "  Args:\n",
      "\u001b[32m2024-09-06 08:40:39.914\u001b[0m | \u001b[1mINFO    \u001b[0m | \u001b[36mapp.assistant.card.nodes\u001b[0m:\u001b[36mget_cards\u001b[0m:\u001b[36m46\u001b[0m | c3be4896-1464-400c-bd5c-55fef2069815  - \u001b[1mRetrieve a list of cards...\u001b[0m\n",
      "\u001b[32m2024-09-06 08:40:39.916\u001b[0m | \u001b[34m\u001b[1mDEBUG   \u001b[0m | \u001b[36mapp.bb_retail.request\u001b[0m:\u001b[36mlist_cards\u001b[0m:\u001b[36m114\u001b[0m | c3be4896-1464-400c-bd5c-55fef2069815  - \u001b[34m\u001b[1mGetting list cards...\u001b[0m\n",
      "\u001b[32m2024-09-06 08:40:39.916\u001b[0m | \u001b[34m\u001b[1mDEBUG   \u001b[0m | \u001b[36mapp.bb_retail.request\u001b[0m:\u001b[36m_make_request\u001b[0m:\u001b[36m151\u001b[0m | c3be4896-1464-400c-bd5c-55fef2069815  - \u001b[34m\u001b[1mMaking request to https://retail.stg.sdbxaz.azure.backbaseservices.com/api/cards-presentation-service/client-api/v2/cards...\u001b[0m\n",
      "\u001b[32m2024-09-06 08:40:41.517\u001b[0m | \u001b[34m\u001b[1mDEBUG   \u001b[0m | \u001b[36mapp.bb_retail.request\u001b[0m:\u001b[36mlist_cards\u001b[0m:\u001b[36m119\u001b[0m | c3be4896-1464-400c-bd5c-55fef2069815  - \u001b[34m\u001b[1mResponse from _make_request: [{'id': 'b465eb1e-5cba-4823-981f-acb26ea3b982', 'brand': 'mastercard', 'type': 'Debit', 'status': 'Active', 'lockStatus': 'UNLOCKED', 'replacement': {'status': 'NotUnderReplacement', 'additions': {}}, 'holder': {'name': 'Sara Williams', 'additions': {}}, 'expiryDate': {'year': '2028', 'month': '08', 'additions': {}}, 'currency': 'USD', 'maskedNumber': '0142', 'limits': [{'id': '4832eba8-174a-44df-9955-9ea8d405b7bb', 'channel': 'atm', 'frequency': 'DAILY', 'amount': 5000, 'maxAmount': 10000, 'minAmount': 0, 'additions': {}}, {'id': 'ef128b74-de3a-4b4b-a0bf-8d282c525ada', 'channel': 'online', 'frequency': 'DAILY', 'amount': 5000, 'maxAmount': 10000, 'minAmount': 0, 'additions': {}}, {'id': 'fcc5bf0c-a084-4e0a-86db-ed5ba18d5826', 'channel': 'atm', 'frequency': 'DAILY', 'amount': 5000, 'maxAmount': 10000, 'minAmount': 0, 'additions': {}}, {'id': 'cd2ff725-2f17-4ada-9ca8-04619374af0d', 'channel': 'online', 'frequency': 'DAILY', 'amount': 5000, 'maxAmount': 10000, 'minAmount': 0, 'additions': {}}, {'id': '11ab3d10-7978-49bd-8136-7c8eaf13f25d', 'channel': 'atm', 'frequency': 'DAILY', 'amount': 5000, 'maxAmount': 10000, 'minAmount': 0, 'additions': {}}], 'cardVisual': {'frontImageURL': 'https://cards-assets.stg.sdbxaz.azure.backbaseservices.com/assets/BackbaseStandard.png'}, 'instrument': 'PHYSICAL', 'additions': {}}, {'id': 'd94b0808-f085-4ddd-be66-bd8fe67119a1', 'brand': 'mastercard', 'type': 'Debit', 'status': 'Cancelled', 'lockStatus': 'UNLOCKED', 'replacement': {'status': 'Replaced', 'reason': 'Lost', 'replacedById': 'b465eb1e-5cba-4823-981f-acb26ea3b982', 'additions': {}}, 'holder': {'name': 'Sara Williams', 'additions': {}}, 'expiryDate': {'year': '2028', 'month': '08', 'additions': {}}, 'currency': 'USD', 'maskedNumber': '5701', 'limits': [{'id': '4832eba8-174a-44df-9955-9ea8d405b7bb', 'channel': 'atm', 'frequency': 'DAILY', 'amount': 5000, 'maxAmount': 10000, 'minAmount': 0, 'additions': {}}, {'id': 'ef128b74-de3a-4b4b-a0bf-8d282c525ada', 'channel': 'online', 'frequency': 'DAILY', 'amount': 5000, 'maxAmount': 10000, 'minAmount': 0, 'additions': {}}, {'id': 'fcc5bf0c-a084-4e0a-86db-ed5ba18d5826', 'channel': 'atm', 'frequency': 'DAILY', 'amount': 5000, 'maxAmount': 10000, 'minAmount': 0, 'additions': {}}, {'id': 'cd2ff725-2f17-4ada-9ca8-04619374af0d', 'channel': 'online', 'frequency': 'DAILY', 'amount': 5000, 'maxAmount': 10000, 'minAmount': 0, 'additions': {}}, {'id': '11ab3d10-7978-49bd-8136-7c8eaf13f25d', 'channel': 'atm', 'frequency': 'DAILY', 'amount': 5000, 'maxAmount': 10000, 'minAmount': 0, 'additions': {}}], 'cardVisual': {'frontImageURL': 'https://cards-assets.stg.sdbxaz.azure.backbaseservices.com/assets/BackbaseStandard.png'}, 'instrument': 'PHYSICAL', 'additions': {}}]\u001b[0m\n",
      "=================================\u001b[1m Tool Message \u001b[0m=================================\n",
      "Name: retrieve_cards\n",
      "\n",
      "[Card(id='b465eb1e-5cba-4823-981f-acb26ea3b982', brand='mastercard', card_type='Debit', status='Active', lock_status='UNLOCKED', replacement_status='NotUnderReplacement', holder_name='Sara Williams', currency='USD', expiry_date='2028-08-31'), Card(id='d94b0808-f085-4ddd-be66-bd8fe67119a1', brand='mastercard', card_type='Debit', status='Cancelled', lock_status='UNLOCKED', replacement_status='Replaced', holder_name='Sara Williams', currency='USD', expiry_date='2028-08-31')]\n",
      "==================================\u001b[1m Ai Message \u001b[0m==================================\n",
      "\n",
      "You have 2 cards. Here are the details:\n",
      "\n",
      "1. Card ID: b465eb1e-5cba-4823-981f-acb26ea3b982\n",
      "   - Brand: MasterCard\n",
      "   - Type: Debit\n",
      "   - Status: Active\n",
      "   - Lock Status: Unlocked\n",
      "   - Replacement Status: Not Under Replacement\n",
      "   - Holder Name: Sara Williams\n",
      "   - Currency: USD\n",
      "   - Expiry Date: 31st August 2028\n",
      "\n",
      "2. Card ID: d94b0808-f085-4ddd-be66-bd8fe67119a1\n",
      "   - Brand: MasterCard\n",
      "   - Type: Debit\n",
      "   - Status: Cancelled\n",
      "   - Lock Status: Unlocked\n",
      "   - Replacement Status: Replaced\n",
      "   - Holder Name: Sara Williams\n",
      "   - Currency: USD\n",
      "   - Expiry Date: 31st August 2028\n",
      "\n",
      "Please note that the second card has been cancelled and replaced.\n"
     ]
    }
   ],
   "source": [
    "input_message = \"how many cards do i have?\"\n",
    "async for event in graph.astream(\n",
    "    {\"messages\": [input_message]}, config, stream_mode=\"values\"\n",
    "):\n",
    "    event[\"messages\"][-1].pretty_print()"
   ]
  },
  {
   "cell_type": "code",
   "execution_count": 35,
   "id": "7c9718e8603b64d2",
   "metadata": {
    "ExecuteTime": {
     "end_time": "2024-09-05T08:36:53.335880Z",
     "start_time": "2024-09-05T08:36:48.680292Z"
    }
   },
   "outputs": [
    {
     "name": "stdout",
     "output_type": "stream",
     "text": [
      "================================\u001b[1m Human Message \u001b[0m=================================\n",
      "\n",
      "I wanna renew my card\n",
      "==================================\u001b[1m Ai Message \u001b[0m==================================\n",
      "Tool Calls:\n",
      "  retrieve_renewable_cards (call_OKsbbio30ckCzMskUB8NRC42)\n",
      " Call ID: call_OKsbbio30ckCzMskUB8NRC42\n",
      "  Args:\n",
      "    expired_days: 30\n",
      "\u001b[32m2024-09-06 08:41:22.196\u001b[0m | \u001b[1mINFO    \u001b[0m | \u001b[36mapp.assistant.card.nodes\u001b[0m:\u001b[36mget_cards\u001b[0m:\u001b[36m46\u001b[0m | c3be4896-1464-400c-bd5c-55fef2069815  - \u001b[1mRetrieve a list of cards...\u001b[0m\n",
      "\u001b[32m2024-09-06 08:41:22.198\u001b[0m | \u001b[34m\u001b[1mDEBUG   \u001b[0m | \u001b[36mapp.bb_retail.request\u001b[0m:\u001b[36mlist_cards\u001b[0m:\u001b[36m114\u001b[0m | c3be4896-1464-400c-bd5c-55fef2069815  - \u001b[34m\u001b[1mGetting list cards...\u001b[0m\n",
      "\u001b[32m2024-09-06 08:41:22.198\u001b[0m | \u001b[34m\u001b[1mDEBUG   \u001b[0m | \u001b[36mapp.bb_retail.request\u001b[0m:\u001b[36m_make_request\u001b[0m:\u001b[36m151\u001b[0m | c3be4896-1464-400c-bd5c-55fef2069815  - \u001b[34m\u001b[1mMaking request to https://retail.stg.sdbxaz.azure.backbaseservices.com/api/cards-presentation-service/client-api/v2/cards...\u001b[0m\n",
      "\u001b[32m2024-09-06 08:41:23.749\u001b[0m | \u001b[34m\u001b[1mDEBUG   \u001b[0m | \u001b[36mapp.bb_retail.request\u001b[0m:\u001b[36mlist_cards\u001b[0m:\u001b[36m119\u001b[0m | c3be4896-1464-400c-bd5c-55fef2069815  - \u001b[34m\u001b[1mResponse from _make_request: [{'id': 'b465eb1e-5cba-4823-981f-acb26ea3b982', 'brand': 'mastercard', 'type': 'Debit', 'status': 'Active', 'lockStatus': 'UNLOCKED', 'replacement': {'status': 'NotUnderReplacement', 'additions': {}}, 'holder': {'name': 'Sara Williams', 'additions': {}}, 'expiryDate': {'year': '2028', 'month': '08', 'additions': {}}, 'currency': 'USD', 'maskedNumber': '0142', 'limits': [{'id': '4832eba8-174a-44df-9955-9ea8d405b7bb', 'channel': 'atm', 'frequency': 'DAILY', 'amount': 5000, 'maxAmount': 10000, 'minAmount': 0, 'additions': {}}, {'id': 'ef128b74-de3a-4b4b-a0bf-8d282c525ada', 'channel': 'online', 'frequency': 'DAILY', 'amount': 5000, 'maxAmount': 10000, 'minAmount': 0, 'additions': {}}, {'id': 'fcc5bf0c-a084-4e0a-86db-ed5ba18d5826', 'channel': 'atm', 'frequency': 'DAILY', 'amount': 5000, 'maxAmount': 10000, 'minAmount': 0, 'additions': {}}, {'id': 'cd2ff725-2f17-4ada-9ca8-04619374af0d', 'channel': 'online', 'frequency': 'DAILY', 'amount': 5000, 'maxAmount': 10000, 'minAmount': 0, 'additions': {}}, {'id': '11ab3d10-7978-49bd-8136-7c8eaf13f25d', 'channel': 'atm', 'frequency': 'DAILY', 'amount': 5000, 'maxAmount': 10000, 'minAmount': 0, 'additions': {}}], 'cardVisual': {'frontImageURL': 'https://cards-assets.stg.sdbxaz.azure.backbaseservices.com/assets/BackbaseStandard.png'}, 'instrument': 'PHYSICAL', 'additions': {}}, {'id': 'd94b0808-f085-4ddd-be66-bd8fe67119a1', 'brand': 'mastercard', 'type': 'Debit', 'status': 'Cancelled', 'lockStatus': 'UNLOCKED', 'replacement': {'status': 'Replaced', 'reason': 'Lost', 'replacedById': 'b465eb1e-5cba-4823-981f-acb26ea3b982', 'additions': {}}, 'holder': {'name': 'Sara Williams', 'additions': {}}, 'expiryDate': {'year': '2028', 'month': '08', 'additions': {}}, 'currency': 'USD', 'maskedNumber': '5701', 'limits': [{'id': '4832eba8-174a-44df-9955-9ea8d405b7bb', 'channel': 'atm', 'frequency': 'DAILY', 'amount': 5000, 'maxAmount': 10000, 'minAmount': 0, 'additions': {}}, {'id': 'ef128b74-de3a-4b4b-a0bf-8d282c525ada', 'channel': 'online', 'frequency': 'DAILY', 'amount': 5000, 'maxAmount': 10000, 'minAmount': 0, 'additions': {}}, {'id': 'fcc5bf0c-a084-4e0a-86db-ed5ba18d5826', 'channel': 'atm', 'frequency': 'DAILY', 'amount': 5000, 'maxAmount': 10000, 'minAmount': 0, 'additions': {}}, {'id': 'cd2ff725-2f17-4ada-9ca8-04619374af0d', 'channel': 'online', 'frequency': 'DAILY', 'amount': 5000, 'maxAmount': 10000, 'minAmount': 0, 'additions': {}}, {'id': '11ab3d10-7978-49bd-8136-7c8eaf13f25d', 'channel': 'atm', 'frequency': 'DAILY', 'amount': 5000, 'maxAmount': 10000, 'minAmount': 0, 'additions': {}}], 'cardVisual': {'frontImageURL': 'https://cards-assets.stg.sdbxaz.azure.backbaseservices.com/assets/BackbaseStandard.png'}, 'instrument': 'PHYSICAL', 'additions': {}}]\u001b[0m\n",
      "=================================\u001b[1m Tool Message \u001b[0m=================================\n",
      "Name: retrieve_renewable_cards\n",
      "\n",
      "[]\n",
      "=================================\u001b[1m Tool Message \u001b[0m=================================\n",
      "Name: retrieve_renewable_cards\n",
      "\n",
      "[]\n",
      "==================================\u001b[1m Ai Message \u001b[0m==================================\n",
      "\n",
      "I didn't find any renewable card from your profile.\n"
     ]
    }
   ],
   "source": [
    "input_message = \"I wanna renew my card\"\n",
    "async for event in graph.astream(\n",
    "    {\"messages\": [input_message]}, config, stream_mode=\"values\"\n",
    "):\n",
    "    event[\"messages\"][-1].pretty_print()"
   ]
  },
  {
   "cell_type": "code",
   "execution_count": 37,
   "id": "ac548292c561f347",
   "metadata": {
    "ExecuteTime": {
     "end_time": "2024-09-05T08:37:04.034834Z",
     "start_time": "2024-09-05T08:36:55.475528Z"
    }
   },
   "outputs": [
    {
     "name": "stdout",
     "output_type": "stream",
     "text": [
      "================================\u001b[1m Human Message \u001b[0m=================================\n",
      "\n",
      "renew the cards that will be expired in next 4 years\n",
      "==================================\u001b[1m Ai Message \u001b[0m==================================\n",
      "Tool Calls:\n",
      "  retrieve_renewable_cards (call_b3xP1bf2UT2po6nipcsviX36)\n",
      " Call ID: call_b3xP1bf2UT2po6nipcsviX36\n",
      "  Args:\n",
      "    expired_days: 1460\n",
      "\u001b[32m2024-09-06 08:41:44.904\u001b[0m | \u001b[1mINFO    \u001b[0m | \u001b[36mapp.assistant.card.nodes\u001b[0m:\u001b[36mget_cards\u001b[0m:\u001b[36m46\u001b[0m | c3be4896-1464-400c-bd5c-55fef2069815  - \u001b[1mRetrieve a list of cards...\u001b[0m\n",
      "\u001b[32m2024-09-06 08:41:44.905\u001b[0m | \u001b[34m\u001b[1mDEBUG   \u001b[0m | \u001b[36mapp.bb_retail.request\u001b[0m:\u001b[36mlist_cards\u001b[0m:\u001b[36m114\u001b[0m | c3be4896-1464-400c-bd5c-55fef2069815  - \u001b[34m\u001b[1mGetting list cards...\u001b[0m\n",
      "\u001b[32m2024-09-06 08:41:44.905\u001b[0m | \u001b[34m\u001b[1mDEBUG   \u001b[0m | \u001b[36mapp.bb_retail.request\u001b[0m:\u001b[36m_make_request\u001b[0m:\u001b[36m151\u001b[0m | c3be4896-1464-400c-bd5c-55fef2069815  - \u001b[34m\u001b[1mMaking request to https://retail.stg.sdbxaz.azure.backbaseservices.com/api/cards-presentation-service/client-api/v2/cards...\u001b[0m\n",
      "\u001b[32m2024-09-06 08:41:46.367\u001b[0m | \u001b[34m\u001b[1mDEBUG   \u001b[0m | \u001b[36mapp.bb_retail.request\u001b[0m:\u001b[36mlist_cards\u001b[0m:\u001b[36m119\u001b[0m | c3be4896-1464-400c-bd5c-55fef2069815  - \u001b[34m\u001b[1mResponse from _make_request: [{'id': 'b465eb1e-5cba-4823-981f-acb26ea3b982', 'brand': 'mastercard', 'type': 'Debit', 'status': 'Active', 'lockStatus': 'UNLOCKED', 'replacement': {'status': 'NotUnderReplacement', 'additions': {}}, 'holder': {'name': 'Sara Williams', 'additions': {}}, 'expiryDate': {'year': '2028', 'month': '08', 'additions': {}}, 'currency': 'USD', 'maskedNumber': '0142', 'limits': [{'id': '4832eba8-174a-44df-9955-9ea8d405b7bb', 'channel': 'atm', 'frequency': 'DAILY', 'amount': 5000, 'maxAmount': 10000, 'minAmount': 0, 'additions': {}}, {'id': 'ef128b74-de3a-4b4b-a0bf-8d282c525ada', 'channel': 'online', 'frequency': 'DAILY', 'amount': 5000, 'maxAmount': 10000, 'minAmount': 0, 'additions': {}}, {'id': 'fcc5bf0c-a084-4e0a-86db-ed5ba18d5826', 'channel': 'atm', 'frequency': 'DAILY', 'amount': 5000, 'maxAmount': 10000, 'minAmount': 0, 'additions': {}}, {'id': 'cd2ff725-2f17-4ada-9ca8-04619374af0d', 'channel': 'online', 'frequency': 'DAILY', 'amount': 5000, 'maxAmount': 10000, 'minAmount': 0, 'additions': {}}, {'id': '11ab3d10-7978-49bd-8136-7c8eaf13f25d', 'channel': 'atm', 'frequency': 'DAILY', 'amount': 5000, 'maxAmount': 10000, 'minAmount': 0, 'additions': {}}], 'cardVisual': {'frontImageURL': 'https://cards-assets.stg.sdbxaz.azure.backbaseservices.com/assets/BackbaseStandard.png'}, 'instrument': 'PHYSICAL', 'additions': {}}, {'id': 'd94b0808-f085-4ddd-be66-bd8fe67119a1', 'brand': 'mastercard', 'type': 'Debit', 'status': 'Cancelled', 'lockStatus': 'UNLOCKED', 'replacement': {'status': 'Replaced', 'reason': 'Lost', 'replacedById': 'b465eb1e-5cba-4823-981f-acb26ea3b982', 'additions': {}}, 'holder': {'name': 'Sara Williams', 'additions': {}}, 'expiryDate': {'year': '2028', 'month': '08', 'additions': {}}, 'currency': 'USD', 'maskedNumber': '5701', 'limits': [{'id': '4832eba8-174a-44df-9955-9ea8d405b7bb', 'channel': 'atm', 'frequency': 'DAILY', 'amount': 5000, 'maxAmount': 10000, 'minAmount': 0, 'additions': {}}, {'id': 'ef128b74-de3a-4b4b-a0bf-8d282c525ada', 'channel': 'online', 'frequency': 'DAILY', 'amount': 5000, 'maxAmount': 10000, 'minAmount': 0, 'additions': {}}, {'id': 'fcc5bf0c-a084-4e0a-86db-ed5ba18d5826', 'channel': 'atm', 'frequency': 'DAILY', 'amount': 5000, 'maxAmount': 10000, 'minAmount': 0, 'additions': {}}, {'id': 'cd2ff725-2f17-4ada-9ca8-04619374af0d', 'channel': 'online', 'frequency': 'DAILY', 'amount': 5000, 'maxAmount': 10000, 'minAmount': 0, 'additions': {}}, {'id': '11ab3d10-7978-49bd-8136-7c8eaf13f25d', 'channel': 'atm', 'frequency': 'DAILY', 'amount': 5000, 'maxAmount': 10000, 'minAmount': 0, 'additions': {}}], 'cardVisual': {'frontImageURL': 'https://cards-assets.stg.sdbxaz.azure.backbaseservices.com/assets/BackbaseStandard.png'}, 'instrument': 'PHYSICAL', 'additions': {}}]\u001b[0m\n",
      "=================================\u001b[1m Tool Message \u001b[0m=================================\n",
      "Name: retrieve_renewable_cards\n",
      "\n",
      "[Card(id='b465eb1e-5cba-4823-981f-acb26ea3b982', brand='mastercard', card_type='Debit', status='Active', lock_status='UNLOCKED', replacement_status='NotUnderReplacement', holder_name='Sara Williams', currency='USD', expiry_date='2028-08-31'), Card(id='d94b0808-f085-4ddd-be66-bd8fe67119a1', brand='mastercard', card_type='Debit', status='Cancelled', lock_status='UNLOCKED', replacement_status='Replaced', holder_name='Sara Williams', currency='USD', expiry_date='2028-08-31')]\n",
      "=================================\u001b[1m Tool Message \u001b[0m=================================\n",
      "Name: retrieve_renewable_cards\n",
      "\n",
      "[Card(id='b465eb1e-5cba-4823-981f-acb26ea3b982', brand='mastercard', card_type='Debit', status='Active', lock_status='UNLOCKED', replacement_status='NotUnderReplacement', holder_name='Sara Williams', currency='USD', expiry_date='2028-08-31'), Card(id='d94b0808-f085-4ddd-be66-bd8fe67119a1', brand='mastercard', card_type='Debit', status='Cancelled', lock_status='UNLOCKED', replacement_status='Replaced', holder_name='Sara Williams', currency='USD', expiry_date='2028-08-31')]\n",
      "==================================\u001b[1m Ai Message \u001b[0m==================================\n",
      "\n",
      "I found the following cards that are renewable. Which one do you want to renew?\n"
     ]
    }
   ],
   "source": [
    "input_message = \"renew the cards that will be expired in next 4 years\"\n",
    "async for event in graph.astream(\n",
    "    {\"messages\": [input_message]}, config, stream_mode=\"values\"\n",
    "):\n",
    "    event[\"messages\"][-1].pretty_print()"
   ]
  },
  {
   "cell_type": "code",
   "execution_count": 38,
   "id": "13099b48",
   "metadata": {},
   "outputs": [
    {
     "name": "stdout",
     "output_type": "stream",
     "text": [
      "d94b0808-f085-4ddd-be66-bd8fe67119a1\n"
     ]
    }
   ],
   "source": [
    "current_state = await graph.aget_state(config=config)\n",
    "nearly_last_card_id = list(current_state.values.get(\"cards\"))[-1]\n",
    "print(nearly_last_card_id)"
   ]
  },
  {
   "cell_type": "code",
   "execution_count": 41,
   "id": "4b8ce01a",
   "metadata": {},
   "outputs": [
    {
     "data": {
      "text/plain": [
       "{'b465eb1e-5cba-4823-981f-acb26ea3b982': Card(id='b465eb1e-5cba-4823-981f-acb26ea3b982', brand='mastercard', card_type='Debit', status='Active', lock_status='UNLOCKED', replacement_status='NotUnderReplacement', holder_name='Sara Williams', currency='USD', expiry_date='2028-08-31'),\n",
       " 'd94b0808-f085-4ddd-be66-bd8fe67119a1': Card(id='d94b0808-f085-4ddd-be66-bd8fe67119a1', brand='mastercard', card_type='Debit', status='Cancelled', lock_status='UNLOCKED', replacement_status='Replaced', holder_name='Sara Williams', currency='USD', expiry_date='2028-08-31')}"
      ]
     },
     "execution_count": 41,
     "metadata": {},
     "output_type": "execute_result"
    }
   ],
   "source": [
    "cards = current_state.values.get(\"cards\")\n",
    "print(cards)"
   ]
  },
  {
   "cell_type": "code",
   "execution_count": 42,
   "id": "0cef6e15",
   "metadata": {},
   "outputs": [
    {
     "data": {
      "text/plain": [
       "{'configurable': {'thread_id': '3c1f199a-2afd-4e9e-a810-b9dc3ab557bc',\n",
       "  'thread_ts': '1ef6c2c1-7ee4-667f-8010-c24dca56c014'}}"
      ]
     },
     "execution_count": 42,
     "metadata": {},
     "output_type": "execute_result"
    }
   ],
   "source": [
    "await graph.aupdate_state(\n",
    "    config=config,\n",
    "    values={\n",
    "        \"cards\": {nearly_last_card_id: cards[nearly_last_card_id]},\n",
    "        \"messages\": HumanMessage(content=cards[nearly_last_card_id].card_type),\n",
    "    },\n",
    "    as_node=\"renewable_card_choice\",\n",
    ")"
   ]
  },
  {
   "cell_type": "code",
   "execution_count": 43,
   "id": "0a3ced1f",
   "metadata": {},
   "outputs": [
    {
     "data": {
      "text/plain": [
       "{'messages': [HumanMessage(content='how many cards do i have?', id='6207f9bb-aefd-40fc-85fc-0240a69d293d'),\n",
       "  AIMessage(content='', additional_kwargs={'tool_calls': [{'id': 'call_b3xP1bf2UT2po6nipcsviX36', 'function': {'arguments': '{}', 'name': 'retrieve_cards'}, 'type': 'function'}]}, response_metadata={'token_usage': {'completion_tokens': 7, 'prompt_tokens': 158, 'total_tokens': 165}, 'model_name': 'gpt-4-32k', 'system_fingerprint': None, 'finish_reason': 'tool_calls', 'logprobs': None, 'content_filter_results': {}}, id='run-afc1e8a4-ffa4-43e4-a456-fe01eb1e2fa3-0', tool_calls=[{'name': 'retrieve_cards', 'args': {}, 'id': 'call_b3xP1bf2UT2po6nipcsviX36', 'type': 'tool_call'}], usage_metadata={'input_tokens': 158, 'output_tokens': 7, 'total_tokens': 165}),\n",
       "  ToolMessage(content=\"[Card(id='b465eb1e-5cba-4823-981f-acb26ea3b982', brand='mastercard', card_type='Debit', status='Active', lock_status='UNLOCKED', replacement_status='NotUnderReplacement', holder_name='Sara Williams', currency='USD', expiry_date='2028-08-31'), Card(id='d94b0808-f085-4ddd-be66-bd8fe67119a1', brand='mastercard', card_type='Debit', status='Cancelled', lock_status='UNLOCKED', replacement_status='Replaced', holder_name='Sara Williams', currency='USD', expiry_date='2028-08-31')]\", name='retrieve_cards', id='ec042c1a-81f4-4836-8428-6d0e685ba1c4', tool_call_id='call_b3xP1bf2UT2po6nipcsviX36'),\n",
       "  AIMessage(content='You have 2 cards. Here are the details:\\n\\n1. Card ID: b465eb1e-5cba-4823-981f-acb26ea3b982\\n   - Brand: MasterCard\\n   - Type: Debit\\n   - Status: Active\\n   - Lock Status: Unlocked\\n   - Replacement Status: Not Under Replacement\\n   - Holder Name: Sara Williams\\n   - Currency: USD\\n   - Expiry Date: 31st August 2028\\n\\n2. Card ID: d94b0808-f085-4ddd-be66-bd8fe67119a1\\n   - Brand: MasterCard\\n   - Type: Debit\\n   - Status: Cancelled\\n   - Lock Status: Unlocked\\n   - Replacement Status: Replaced\\n   - Holder Name: Sara Williams\\n   - Currency: USD\\n   - Expiry Date: 31st August 2028\\n\\nPlease note that the second card has been cancelled and replaced.', response_metadata={'token_usage': {'completion_tokens': 207, 'prompt_tokens': 322, 'total_tokens': 529}, 'model_name': 'gpt-4-32k', 'system_fingerprint': None, 'finish_reason': 'stop', 'logprobs': None, 'content_filter_results': {}}, id='run-39153fd2-d1bf-4b99-879b-29138812cdd9-0', usage_metadata={'input_tokens': 322, 'output_tokens': 207, 'total_tokens': 529}),\n",
       "  HumanMessage(content='I wanna renew my card', id='fe75bfc6-299e-433c-892c-ea7d4d8e921e'),\n",
       "  AIMessage(content='', additional_kwargs={'tool_calls': [{'id': 'call_OKsbbio30ckCzMskUB8NRC42', 'function': {'arguments': '{\\n  \"expired_days\": 30\\n}', 'name': 'retrieve_renewable_cards'}, 'type': 'function'}]}, response_metadata={'token_usage': {'completion_tokens': 19, 'prompt_tokens': 541, 'total_tokens': 560}, 'model_name': 'gpt-4-32k', 'system_fingerprint': None, 'finish_reason': 'tool_calls', 'logprobs': None, 'content_filter_results': {}}, id='run-eafa69a4-7fd5-46ce-89a7-9568c6ae9bf2-0', tool_calls=[{'name': 'retrieve_renewable_cards', 'args': {'expired_days': 30}, 'id': 'call_OKsbbio30ckCzMskUB8NRC42', 'type': 'tool_call'}], usage_metadata={'input_tokens': 541, 'output_tokens': 19, 'total_tokens': 560}),\n",
       "  ToolMessage(content='[]', name='retrieve_renewable_cards', id='bae87fe9-1c1e-42b3-b8fb-6fbd3f33d361', tool_call_id='call_OKsbbio30ckCzMskUB8NRC42'),\n",
       "  AIMessage(content=\"I didn't find any renewable card from your profile.\", id='4ceb91a0-bd07-4a86-8a5a-2080232c78fe'),\n",
       "  HumanMessage(content='renew the cards that will be expired in next 4 years', id='75f55865-9bc3-42a7-a3db-babbc7dac1af'),\n",
       "  AIMessage(content='', additional_kwargs={'tool_calls': [{'id': 'call_b3xP1bf2UT2po6nipcsviX36', 'function': {'arguments': '{\"expired_days\": 1460}', 'name': 'retrieve_renewable_cards'}, 'type': 'function'}]}, response_metadata={'token_usage': {'completion_tokens': 17, 'prompt_tokens': 601, 'total_tokens': 618}, 'model_name': 'gpt-4-32k', 'system_fingerprint': None, 'finish_reason': 'tool_calls', 'logprobs': None, 'content_filter_results': {}}, id='run-01c47931-5fa8-4a0b-8530-a765929effea-0', tool_calls=[{'name': 'retrieve_renewable_cards', 'args': {'expired_days': 1460}, 'id': 'call_b3xP1bf2UT2po6nipcsviX36', 'type': 'tool_call'}], usage_metadata={'input_tokens': 601, 'output_tokens': 17, 'total_tokens': 618}),\n",
       "  ToolMessage(content=\"[Card(id='b465eb1e-5cba-4823-981f-acb26ea3b982', brand='mastercard', card_type='Debit', status='Active', lock_status='UNLOCKED', replacement_status='NotUnderReplacement', holder_name='Sara Williams', currency='USD', expiry_date='2028-08-31'), Card(id='d94b0808-f085-4ddd-be66-bd8fe67119a1', brand='mastercard', card_type='Debit', status='Cancelled', lock_status='UNLOCKED', replacement_status='Replaced', holder_name='Sara Williams', currency='USD', expiry_date='2028-08-31')]\", name='retrieve_renewable_cards', id='b492b306-f626-477a-815e-2e147f68cb59', tool_call_id='call_b3xP1bf2UT2po6nipcsviX36'),\n",
       "  AIMessage(content='I found the following cards that are renewable. Which one do you want to renew?', id='9c679b99-cbfb-4460-afa5-9960109a0f76'),\n",
       "  HumanMessage(content='Debit', id='20200ddb-60bb-4fdd-9eb8-99924a274144')],\n",
       " 'responses': ['{\"thread_id\":\"3c1f199a-2afd-4e9e-a810-b9dc3ab557bc-no_available_renewable_card\",\"response\":\"I didn\\'t find any renewable card from your profile.\",\"action\":\"SHOW_REPLY\",\"metadata\":null}',\n",
       "  '{\"thread_id\":\"3c1f199a-2afd-4e9e-a810-b9dc3ab557bc-available_renewable_card\",\"response\":\"I found the following cards that are renewable. Which one do you want to renew?\",\"action\":\"SHOW_CHOICES\",\"metadata\":{\"type\":\"CHOICES_DATA\",\"choices\":[{\"type\":\"CARD_CHOICE\",\"id\":\"b465eb1e-5cba-4823-981f-acb26ea3b982\",\"name\":null,\"description\":null,\"is_enabled\":true,\"brand\":\"mastercard\",\"card_type\":\"Debit\",\"status\":\"Active\",\"lock_status\":\"UNLOCKED\",\"replacement_status\":\"NotUnderReplacement\",\"holder_name\":\"Sara Williams\",\"currency\":\"USD\",\"expiry_date\":\"2028-08-31\"},{\"type\":\"CARD_CHOICE\",\"id\":\"d94b0808-f085-4ddd-be66-bd8fe67119a1\",\"name\":null,\"description\":null,\"is_enabled\":true,\"brand\":\"mastercard\",\"card_type\":\"Debit\",\"status\":\"Cancelled\",\"lock_status\":\"UNLOCKED\",\"replacement_status\":\"Replaced\",\"holder_name\":\"Sara Williams\",\"currency\":\"USD\",\"expiry_date\":\"2028-08-31\"}]}}'],\n",
       " 'cards': {'d94b0808-f085-4ddd-be66-bd8fe67119a1': Card(id='d94b0808-f085-4ddd-be66-bd8fe67119a1', brand='mastercard', card_type='Debit', status='Cancelled', lock_status='UNLOCKED', replacement_status='Replaced', holder_name='Sara Williams', currency='USD', expiry_date='2028-08-31')}}"
      ]
     },
     "execution_count": 43,
     "metadata": {},
     "output_type": "execute_result"
    }
   ],
   "source": [
    "current_state = await graph.aget_state(config=config)\n",
    "print(current_state.values)"
   ]
  },
  {
   "cell_type": "code",
   "execution_count": 39,
   "id": "13c60dd6",
   "metadata": {},
   "outputs": [
    {
     "data": {
      "text/plain": [
       "StateSnapshot(values={'messages': [HumanMessage(content=\"it's too hot now, what is the weather in HCMC?\", id='6da8f844-188c-4e60-a435-5608fa5252af'), AIMessage(content=\"I'm sorry, as a banking card assistant, I can only provide help related to your cards.\", response_metadata={'token_usage': {'completion_tokens': 21, 'prompt_tokens': 166, 'total_tokens': 187}, 'model_name': 'gpt-4-32k', 'system_fingerprint': None, 'finish_reason': 'stop', 'logprobs': None, 'content_filter_results': {}}, id='run-6f760469-af64-4726-91a0-264dd207332a-0', usage_metadata={'input_tokens': 166, 'output_tokens': 21, 'total_tokens': 187}), HumanMessage(content='how many cards do i have?', id='b7bd32a1-c333-4799-a7bd-1ef3b7ff4b17'), AIMessage(content='', additional_kwargs={'tool_calls': [{'id': 'call_psABdAxMScuhNOLOD4og8SFv', 'function': {'arguments': '{}', 'name': 'retrieve_cards'}, 'type': 'function'}]}, response_metadata={'token_usage': {'completion_tokens': 7, 'prompt_tokens': 201, 'total_tokens': 208}, 'model_name': 'gpt-4-32k', 'system_fingerprint': None, 'finish_reason': 'tool_calls', 'logprobs': None, 'content_filter_results': {}}, id='run-95ecb3c3-930b-49ab-9feb-a1c9fcd0e97b-0', tool_calls=[{'name': 'retrieve_cards', 'args': {}, 'id': 'call_psABdAxMScuhNOLOD4og8SFv', 'type': 'tool_call'}], usage_metadata={'input_tokens': 201, 'output_tokens': 7, 'total_tokens': 208}), ToolMessage(content=\"[Card(id='b465eb1e-5cba-4823-981f-acb26ea3b982', brand='mastercard', card_type='Debit', status='Active', lock_status='UNLOCKED', replacement_status='NotUnderReplacement', holder_name='Sara Williams', currency='USD', expiry_date='2028-08-31'), Card(id='d94b0808-f085-4ddd-be66-bd8fe67119a1', brand='mastercard', card_type='Debit', status='Cancelled', lock_status='UNLOCKED', replacement_status='Replaced', holder_name='Sara Williams', currency='USD', expiry_date='2028-08-31')]\", name='retrieve_cards', id='b8500a9d-4684-45a1-a869-43812a3d17b4', tool_call_id='call_psABdAxMScuhNOLOD4og8SFv'), AIMessage(content='You currently have 2 cards. \\n\\n1. An active Mastercard debit card with the ID b465eb1e-5cba-4823-981f-acb26ea3b982, in USD currency, expiring on August 31, 2028. \\n\\n2. A cancelled Mastercard debit card with the ID d94b0808-f085-4ddd-be66-bd8fe67119a1, in USD currency, which has been replaced.', response_metadata={'token_usage': {'completion_tokens': 99, 'prompt_tokens': 365, 'total_tokens': 464}, 'model_name': 'gpt-4-32k', 'system_fingerprint': None, 'finish_reason': 'stop', 'logprobs': None, 'content_filter_results': {}}, id='run-33157dcf-4a4d-4e99-bb0a-ce12859fa2ad-0', usage_metadata={'input_tokens': 365, 'output_tokens': 99, 'total_tokens': 464}), HumanMessage(content='I wanna renew my card that will be expired in next 4 years', id='74492668-9ab6-43cb-acf4-6f2ad69401d8'), AIMessage(content='', additional_kwargs={'tool_calls': [{'id': 'call_M9EKpXzWWukf8B0l2QDFo5Ct', 'function': {'arguments': '{\\n\"expired_days\": 1460\\n}', 'name': 'retrieve_renewable_cards'}, 'type': 'function'}]}, response_metadata={'token_usage': {'completion_tokens': 19, 'prompt_tokens': 485, 'total_tokens': 504}, 'model_name': 'gpt-4-32k', 'system_fingerprint': None, 'finish_reason': 'tool_calls', 'logprobs': None, 'content_filter_results': {}}, id='run-e13df598-4243-45a1-b20d-5997901c2c22-0', tool_calls=[{'name': 'retrieve_renewable_cards', 'args': {'expired_days': 1460}, 'id': 'call_M9EKpXzWWukf8B0l2QDFo5Ct', 'type': 'tool_call'}], usage_metadata={'input_tokens': 485, 'output_tokens': 19, 'total_tokens': 504}), ToolMessage(content=\"[Card(id='b465eb1e-5cba-4823-981f-acb26ea3b982', brand='mastercard', card_type='Debit', status='Active', lock_status='UNLOCKED', replacement_status='NotUnderReplacement', holder_name='Sara Williams', currency='USD', expiry_date='2028-08-31'), Card(id='d94b0808-f085-4ddd-be66-bd8fe67119a1', brand='mastercard', card_type='Debit', status='Cancelled', lock_status='UNLOCKED', replacement_status='Replaced', holder_name='Sara Williams', currency='USD', expiry_date='2028-08-31')]\", name='retrieve_renewable_cards', id='4200d751-894f-43c1-8cd0-1171f396deca', tool_call_id='call_M9EKpXzWWukf8B0l2QDFo5Ct'), AIMessage(content='I found the following cards that are renewable. Which one do you want to renew?', id='f83b3f0a-f404-4ab4-a5b0-f99cf1e405e7')], 'responses': ['{\"thread_id\":\"672aa886-2db2-40ca-942d-32474e9bb5fc-available_renewable_card\",\"response\":\"I found the following cards that are renewable. Which one do you want to renew?\",\"action\":\"SHOW_CHOICES\",\"metadata\":{\"type\":\"CHOICES_DATA\",\"choices\":[{\"type\":\"CARD_CHOICE\",\"id\":\"b465eb1e-5cba-4823-981f-acb26ea3b982\",\"name\":null,\"description\":null,\"is_enabled\":true,\"brand\":\"mastercard\",\"card_type\":\"Debit\",\"status\":\"Active\",\"lock_status\":\"UNLOCKED\",\"replacement_status\":\"NotUnderReplacement\",\"holder_name\":\"Sara Williams\",\"currency\":\"USD\",\"expiry_date\":\"2028-08-31\"},{\"type\":\"CARD_CHOICE\",\"id\":\"d94b0808-f085-4ddd-be66-bd8fe67119a1\",\"name\":null,\"description\":null,\"is_enabled\":true,\"brand\":\"mastercard\",\"card_type\":\"Debit\",\"status\":\"Cancelled\",\"lock_status\":\"UNLOCKED\",\"replacement_status\":\"Replaced\",\"holder_name\":\"Sara Williams\",\"currency\":\"USD\",\"expiry_date\":\"2028-08-31\"}]}}'], 'cards': {'b465eb1e-5cba-4823-981f-acb26ea3b982': Card(id='b465eb1e-5cba-4823-981f-acb26ea3b982', brand='mastercard', card_type='Debit', status='Active', lock_status='UNLOCKED', replacement_status='NotUnderReplacement', holder_name='Sara Williams', currency='USD', expiry_date='2028-08-31'), 'd94b0808-f085-4ddd-be66-bd8fe67119a1': Card(id='d94b0808-f085-4ddd-be66-bd8fe67119a1', brand='mastercard', card_type='Debit', status='Cancelled', lock_status='UNLOCKED', replacement_status='Replaced', holder_name='Sara Williams', currency='USD', expiry_date='2028-08-31')}}, next=('renewable_card_choice',), config={'configurable': {'thread_id': '672aa886-2db2-40ca-942d-32474e9bb5fc', 'thread_ts': '1ef6c274-10ec-6bd1-800c-0f60c92a4ba0'}}, metadata={'source': 'loop', 'writes': {'available_renewable_card': {'messages': [AIMessage(content='I found the following cards that are renewable. Which one do you want to renew?', id='f83b3f0a-f404-4ab4-a5b0-f99cf1e405e7')], 'responses': ['{\"thread_id\":\"672aa886-2db2-40ca-942d-32474e9bb5fc-available_renewable_card\",\"response\":\"I found the following cards that are renewable. Which one do you want to renew?\",\"action\":\"SHOW_CHOICES\",\"metadata\":{\"type\":\"CHOICES_DATA\",\"choices\":[{\"type\":\"CARD_CHOICE\",\"id\":\"b465eb1e-5cba-4823-981f-acb26ea3b982\",\"name\":null,\"description\":null,\"is_enabled\":true,\"brand\":\"mastercard\",\"card_type\":\"Debit\",\"status\":\"Active\",\"lock_status\":\"UNLOCKED\",\"replacement_status\":\"NotUnderReplacement\",\"holder_name\":\"Sara Williams\",\"currency\":\"USD\",\"expiry_date\":\"2028-08-31\"},{\"type\":\"CARD_CHOICE\",\"id\":\"d94b0808-f085-4ddd-be66-bd8fe67119a1\",\"name\":null,\"description\":null,\"is_enabled\":true,\"brand\":\"mastercard\",\"card_type\":\"Debit\",\"status\":\"Cancelled\",\"lock_status\":\"UNLOCKED\",\"replacement_status\":\"Replaced\",\"holder_name\":\"Sara Williams\",\"currency\":\"USD\",\"expiry_date\":\"2028-08-31\"}]}}']}}, 'step': 12}, created_at='2024-09-06T08:08:52.278723+00:00', parent_config={'configurable': {'thread_id': '672aa886-2db2-40ca-942d-32474e9bb5fc', 'thread_ts': '1ef6c274-10c3-6c44-800b-29dd6e39e7a1'}})"
      ]
     },
     "execution_count": 39,
     "metadata": {},
     "output_type": "execute_result"
    }
   ],
   "source": [
    "current_state = await graph.aget_state(config=config)\n",
    "print(current_state)"
   ]
  },
  {
   "cell_type": "code",
   "execution_count": 40,
   "id": "050a5b3c",
   "metadata": {},
   "outputs": [
    {
     "data": {
      "text/plain": [
       "['{\"thread_id\":\"672aa886-2db2-40ca-942d-32474e9bb5fc-available_renewable_card\",\"response\":\"I found the following cards that are renewable. Which one do you want to renew?\",\"action\":\"SHOW_CHOICES\",\"metadata\":{\"type\":\"CHOICES_DATA\",\"choices\":[{\"type\":\"CARD_CHOICE\",\"id\":\"b465eb1e-5cba-4823-981f-acb26ea3b982\",\"name\":null,\"description\":null,\"is_enabled\":true,\"brand\":\"mastercard\",\"card_type\":\"Debit\",\"status\":\"Active\",\"lock_status\":\"UNLOCKED\",\"replacement_status\":\"NotUnderReplacement\",\"holder_name\":\"Sara Williams\",\"currency\":\"USD\",\"expiry_date\":\"2028-08-31\"},{\"type\":\"CARD_CHOICE\",\"id\":\"d94b0808-f085-4ddd-be66-bd8fe67119a1\",\"name\":null,\"description\":null,\"is_enabled\":true,\"brand\":\"mastercard\",\"card_type\":\"Debit\",\"status\":\"Cancelled\",\"lock_status\":\"UNLOCKED\",\"replacement_status\":\"Replaced\",\"holder_name\":\"Sara Williams\",\"currency\":\"USD\",\"expiry_date\":\"2028-08-31\"}]}}']"
      ]
     },
     "execution_count": 40,
     "metadata": {},
     "output_type": "execute_result"
    }
   ],
   "source": [
    "print(current_state.values[\"responses\"])"
   ]
  },
  {
   "cell_type": "code",
   "execution_count": 41,
   "id": "8f72b5eb",
   "metadata": {},
   "outputs": [
    {
     "data": {
      "text/plain": [
       "{'b465eb1e-5cba-4823-981f-acb26ea3b982': Card(id='b465eb1e-5cba-4823-981f-acb26ea3b982', brand='mastercard', card_type='Debit', status='Active', lock_status='UNLOCKED', replacement_status='NotUnderReplacement', holder_name='Sara Williams', currency='USD', expiry_date='2028-08-31'),\n",
       " 'd94b0808-f085-4ddd-be66-bd8fe67119a1': Card(id='d94b0808-f085-4ddd-be66-bd8fe67119a1', brand='mastercard', card_type='Debit', status='Cancelled', lock_status='UNLOCKED', replacement_status='Replaced', holder_name='Sara Williams', currency='USD', expiry_date='2028-08-31')}"
      ]
     },
     "execution_count": 41,
     "metadata": {},
     "output_type": "execute_result"
    }
   ],
   "source": [
    "cards = current_state.values.get(\"cards\")\n",
    "print(cards)"
   ]
  },
  {
   "cell_type": "code",
   "execution_count": 42,
   "id": "7183c77e",
   "metadata": {},
   "outputs": [
    {
     "name": "stdout",
     "output_type": "stream",
     "text": [
      "d94b0808-f085-4ddd-be66-bd8fe67119a1\n"
     ]
    }
   ],
   "source": [
    "nearly_last_card_id = list(current_state.values.get(\"cards\"))[-1]\n",
    "print(nearly_last_card_id)"
   ]
  },
  {
   "cell_type": "code",
   "execution_count": 43,
   "id": "6c94dc31",
   "metadata": {},
   "outputs": [
    {
     "data": {
      "text/plain": [
       "{'configurable': {'thread_id': '672aa886-2db2-40ca-942d-32474e9bb5fc',\n",
       "  'thread_ts': '1ef6c274-c219-6d17-800d-94fdbde2d536'}}"
      ]
     },
     "execution_count": 43,
     "metadata": {},
     "output_type": "execute_result"
    }
   ],
   "source": [
    "await graph.aupdate_state(\n",
    "    config=config,\n",
    "    values={\n",
    "        \"cards\": {nearly_last_card_id: cards[nearly_last_card_id]},\n",
    "        \"messages\": HumanMessage(content=cards[nearly_last_card_id].card_type),\n",
    "    },\n",
    "    as_node=\"renewable_card_choice\",\n",
    ")"
   ]
  },
  {
   "cell_type": "code",
   "execution_count": 46,
   "id": "a4fd8cd9",
   "metadata": {
    "lines_to_next_cell": 2
   },
   "outputs": [
    {
     "data": {
      "text/plain": [
       "{'messages': [HumanMessage(content=\"it's too hot now, what is the weather in HCMC?\", id='6da8f844-188c-4e60-a435-5608fa5252af'),\n",
       "  AIMessage(content=\"I'm sorry, as a banking card assistant, I can only provide help related to your cards.\", response_metadata={'token_usage': {'completion_tokens': 21, 'prompt_tokens': 166, 'total_tokens': 187}, 'model_name': 'gpt-4-32k', 'system_fingerprint': None, 'finish_reason': 'stop', 'logprobs': None, 'content_filter_results': {}}, id='run-6f760469-af64-4726-91a0-264dd207332a-0', usage_metadata={'input_tokens': 166, 'output_tokens': 21, 'total_tokens': 187}),\n",
       "  HumanMessage(content='how many cards do i have?', id='b7bd32a1-c333-4799-a7bd-1ef3b7ff4b17'),\n",
       "  AIMessage(content='', additional_kwargs={'tool_calls': [{'id': 'call_psABdAxMScuhNOLOD4og8SFv', 'function': {'arguments': '{}', 'name': 'retrieve_cards'}, 'type': 'function'}]}, response_metadata={'token_usage': {'completion_tokens': 7, 'prompt_tokens': 201, 'total_tokens': 208}, 'model_name': 'gpt-4-32k', 'system_fingerprint': None, 'finish_reason': 'tool_calls', 'logprobs': None, 'content_filter_results': {}}, id='run-95ecb3c3-930b-49ab-9feb-a1c9fcd0e97b-0', tool_calls=[{'name': 'retrieve_cards', 'args': {}, 'id': 'call_psABdAxMScuhNOLOD4og8SFv', 'type': 'tool_call'}], usage_metadata={'input_tokens': 201, 'output_tokens': 7, 'total_tokens': 208}),\n",
       "  ToolMessage(content=\"[Card(id='b465eb1e-5cba-4823-981f-acb26ea3b982', brand='mastercard', card_type='Debit', status='Active', lock_status='UNLOCKED', replacement_status='NotUnderReplacement', holder_name='Sara Williams', currency='USD', expiry_date='2028-08-31'), Card(id='d94b0808-f085-4ddd-be66-bd8fe67119a1', brand='mastercard', card_type='Debit', status='Cancelled', lock_status='UNLOCKED', replacement_status='Replaced', holder_name='Sara Williams', currency='USD', expiry_date='2028-08-31')]\", name='retrieve_cards', id='b8500a9d-4684-45a1-a869-43812a3d17b4', tool_call_id='call_psABdAxMScuhNOLOD4og8SFv'),\n",
       "  AIMessage(content='You currently have 2 cards. \\n\\n1. An active Mastercard debit card with the ID b465eb1e-5cba-4823-981f-acb26ea3b982, in USD currency, expiring on August 31, 2028. \\n\\n2. A cancelled Mastercard debit card with the ID d94b0808-f085-4ddd-be66-bd8fe67119a1, in USD currency, which has been replaced.', response_metadata={'token_usage': {'completion_tokens': 99, 'prompt_tokens': 365, 'total_tokens': 464}, 'model_name': 'gpt-4-32k', 'system_fingerprint': None, 'finish_reason': 'stop', 'logprobs': None, 'content_filter_results': {}}, id='run-33157dcf-4a4d-4e99-bb0a-ce12859fa2ad-0', usage_metadata={'input_tokens': 365, 'output_tokens': 99, 'total_tokens': 464}),\n",
       "  HumanMessage(content='I wanna renew my card that will be expired in next 4 years', id='74492668-9ab6-43cb-acf4-6f2ad69401d8'),\n",
       "  AIMessage(content='', additional_kwargs={'tool_calls': [{'id': 'call_M9EKpXzWWukf8B0l2QDFo5Ct', 'function': {'arguments': '{\\n\"expired_days\": 1460\\n}', 'name': 'retrieve_renewable_cards'}, 'type': 'function'}]}, response_metadata={'token_usage': {'completion_tokens': 19, 'prompt_tokens': 485, 'total_tokens': 504}, 'model_name': 'gpt-4-32k', 'system_fingerprint': None, 'finish_reason': 'tool_calls', 'logprobs': None, 'content_filter_results': {}}, id='run-e13df598-4243-45a1-b20d-5997901c2c22-0', tool_calls=[{'name': 'retrieve_renewable_cards', 'args': {'expired_days': 1460}, 'id': 'call_M9EKpXzWWukf8B0l2QDFo5Ct', 'type': 'tool_call'}], usage_metadata={'input_tokens': 485, 'output_tokens': 19, 'total_tokens': 504}),\n",
       "  ToolMessage(content=\"[Card(id='b465eb1e-5cba-4823-981f-acb26ea3b982', brand='mastercard', card_type='Debit', status='Active', lock_status='UNLOCKED', replacement_status='NotUnderReplacement', holder_name='Sara Williams', currency='USD', expiry_date='2028-08-31'), Card(id='d94b0808-f085-4ddd-be66-bd8fe67119a1', brand='mastercard', card_type='Debit', status='Cancelled', lock_status='UNLOCKED', replacement_status='Replaced', holder_name='Sara Williams', currency='USD', expiry_date='2028-08-31')]\", name='retrieve_renewable_cards', id='4200d751-894f-43c1-8cd0-1171f396deca', tool_call_id='call_M9EKpXzWWukf8B0l2QDFo5Ct'),\n",
       "  AIMessage(content='I found the following cards that are renewable. Which one do you want to renew?', id='f83b3f0a-f404-4ab4-a5b0-f99cf1e405e7'),\n",
       "  HumanMessage(content='Debit', id='05eeff1e-10f4-43c7-93cf-43e7c26e1fd5')],\n",
       " 'responses': ['{\"thread_id\":\"672aa886-2db2-40ca-942d-32474e9bb5fc-available_renewable_card\",\"response\":\"I found the following cards that are renewable. Which one do you want to renew?\",\"action\":\"SHOW_CHOICES\",\"metadata\":{\"type\":\"CHOICES_DATA\",\"choices\":[{\"type\":\"CARD_CHOICE\",\"id\":\"b465eb1e-5cba-4823-981f-acb26ea3b982\",\"name\":null,\"description\":null,\"is_enabled\":true,\"brand\":\"mastercard\",\"card_type\":\"Debit\",\"status\":\"Active\",\"lock_status\":\"UNLOCKED\",\"replacement_status\":\"NotUnderReplacement\",\"holder_name\":\"Sara Williams\",\"currency\":\"USD\",\"expiry_date\":\"2028-08-31\"},{\"type\":\"CARD_CHOICE\",\"id\":\"d94b0808-f085-4ddd-be66-bd8fe67119a1\",\"name\":null,\"description\":null,\"is_enabled\":true,\"brand\":\"mastercard\",\"card_type\":\"Debit\",\"status\":\"Cancelled\",\"lock_status\":\"UNLOCKED\",\"replacement_status\":\"Replaced\",\"holder_name\":\"Sara Williams\",\"currency\":\"USD\",\"expiry_date\":\"2028-08-31\"}]}}'],\n",
       " 'cards': {'d94b0808-f085-4ddd-be66-bd8fe67119a1': Card(id='d94b0808-f085-4ddd-be66-bd8fe67119a1', brand='mastercard', card_type='Debit', status='Cancelled', lock_status='UNLOCKED', replacement_status='Replaced', holder_name='Sara Williams', currency='USD', expiry_date='2028-08-31')}}"
      ]
     },
     "execution_count": 46,
     "metadata": {},
     "output_type": "execute_result"
    }
   ],
   "source": [
    "current_state = await graph.aget_state(config=config)\n",
    "print(current_state.values)"
   ]
  },
  {
   "cell_type": "code",
   "execution_count": 44,
   "id": "72243941",
   "metadata": {},
   "outputs": [
    {
     "name": "stdout",
     "output_type": "stream",
     "text": [
      "==================================\u001b[1m Ai Message \u001b[0m==================================\n",
      "\n",
      "Let's review your renewable card info!\n"
     ]
    }
   ],
   "source": [
    "# Continue the graph execution\n",
    "async for event in graph.astream(None, config, stream_mode=\"values\"):\n",
    "    event[\"messages\"][-1].pretty_print()"
   ]
  },
  {
   "cell_type": "code",
   "execution_count": 45,
   "id": "428bc021",
   "metadata": {},
   "outputs": [
    {
     "name": "stdout",
     "output_type": "stream",
     "text": [
      "================================\u001b[1m Human Message \u001b[0m=================================\n",
      "\n",
      "it's too hot now, what is the weather in HCMC?\n",
      "==================================\u001b[1m Ai Message \u001b[0m==================================\n",
      "\n",
      "I'm sorry, but as a banking card assistant, I can only help with card-related queries. For weather updates, please refer to a reliable weather forecasting service.\n"
     ]
    }
   ],
   "source": [
    "input_message = \"it's too hot now, what is the weather in HCMC?\"\n",
    "async for event in graph.astream(\n",
    "    {\"messages\": [input_message]}, config, stream_mode=\"values\"\n",
    "):\n",
    "    event[\"messages\"][-1].pretty_print()"
   ]
  },
  {
   "cell_type": "code",
   "execution_count": 46,
   "id": "5a185de1",
   "metadata": {},
   "outputs": [
    {
     "data": {
      "text/plain": [
       "{'messages': [HumanMessage(content='how many cards do i have?', id='6207f9bb-aefd-40fc-85fc-0240a69d293d'),\n",
       "  AIMessage(content='', additional_kwargs={'tool_calls': [{'id': 'call_b3xP1bf2UT2po6nipcsviX36', 'function': {'arguments': '{}', 'name': 'retrieve_cards'}, 'type': 'function'}]}, response_metadata={'token_usage': {'completion_tokens': 7, 'prompt_tokens': 158, 'total_tokens': 165}, 'model_name': 'gpt-4-32k', 'system_fingerprint': None, 'finish_reason': 'tool_calls', 'logprobs': None, 'content_filter_results': {}}, id='run-afc1e8a4-ffa4-43e4-a456-fe01eb1e2fa3-0', tool_calls=[{'name': 'retrieve_cards', 'args': {}, 'id': 'call_b3xP1bf2UT2po6nipcsviX36', 'type': 'tool_call'}], usage_metadata={'input_tokens': 158, 'output_tokens': 7, 'total_tokens': 165}),\n",
       "  ToolMessage(content=\"[Card(id='b465eb1e-5cba-4823-981f-acb26ea3b982', brand='mastercard', card_type='Debit', status='Active', lock_status='UNLOCKED', replacement_status='NotUnderReplacement', holder_name='Sara Williams', currency='USD', expiry_date='2028-08-31'), Card(id='d94b0808-f085-4ddd-be66-bd8fe67119a1', brand='mastercard', card_type='Debit', status='Cancelled', lock_status='UNLOCKED', replacement_status='Replaced', holder_name='Sara Williams', currency='USD', expiry_date='2028-08-31')]\", name='retrieve_cards', id='ec042c1a-81f4-4836-8428-6d0e685ba1c4', tool_call_id='call_b3xP1bf2UT2po6nipcsviX36'),\n",
       "  AIMessage(content='You have 2 cards. Here are the details:\\n\\n1. Card ID: b465eb1e-5cba-4823-981f-acb26ea3b982\\n   - Brand: MasterCard\\n   - Type: Debit\\n   - Status: Active\\n   - Lock Status: Unlocked\\n   - Replacement Status: Not Under Replacement\\n   - Holder Name: Sara Williams\\n   - Currency: USD\\n   - Expiry Date: 31st August 2028\\n\\n2. Card ID: d94b0808-f085-4ddd-be66-bd8fe67119a1\\n   - Brand: MasterCard\\n   - Type: Debit\\n   - Status: Cancelled\\n   - Lock Status: Unlocked\\n   - Replacement Status: Replaced\\n   - Holder Name: Sara Williams\\n   - Currency: USD\\n   - Expiry Date: 31st August 2028\\n\\nPlease note that the second card has been cancelled and replaced.', response_metadata={'token_usage': {'completion_tokens': 207, 'prompt_tokens': 322, 'total_tokens': 529}, 'model_name': 'gpt-4-32k', 'system_fingerprint': None, 'finish_reason': 'stop', 'logprobs': None, 'content_filter_results': {}}, id='run-39153fd2-d1bf-4b99-879b-29138812cdd9-0', usage_metadata={'input_tokens': 322, 'output_tokens': 207, 'total_tokens': 529}),\n",
       "  HumanMessage(content='I wanna renew my card', id='fe75bfc6-299e-433c-892c-ea7d4d8e921e'),\n",
       "  AIMessage(content='', additional_kwargs={'tool_calls': [{'id': 'call_OKsbbio30ckCzMskUB8NRC42', 'function': {'arguments': '{\\n  \"expired_days\": 30\\n}', 'name': 'retrieve_renewable_cards'}, 'type': 'function'}]}, response_metadata={'token_usage': {'completion_tokens': 19, 'prompt_tokens': 541, 'total_tokens': 560}, 'model_name': 'gpt-4-32k', 'system_fingerprint': None, 'finish_reason': 'tool_calls', 'logprobs': None, 'content_filter_results': {}}, id='run-eafa69a4-7fd5-46ce-89a7-9568c6ae9bf2-0', tool_calls=[{'name': 'retrieve_renewable_cards', 'args': {'expired_days': 30}, 'id': 'call_OKsbbio30ckCzMskUB8NRC42', 'type': 'tool_call'}], usage_metadata={'input_tokens': 541, 'output_tokens': 19, 'total_tokens': 560}),\n",
       "  ToolMessage(content='[]', name='retrieve_renewable_cards', id='bae87fe9-1c1e-42b3-b8fb-6fbd3f33d361', tool_call_id='call_OKsbbio30ckCzMskUB8NRC42'),\n",
       "  AIMessage(content=\"I didn't find any renewable card from your profile.\", id='4ceb91a0-bd07-4a86-8a5a-2080232c78fe'),\n",
       "  HumanMessage(content='renew the cards that will be expired in next 4 years', id='75f55865-9bc3-42a7-a3db-babbc7dac1af'),\n",
       "  AIMessage(content='', additional_kwargs={'tool_calls': [{'id': 'call_b3xP1bf2UT2po6nipcsviX36', 'function': {'arguments': '{\"expired_days\": 1460}', 'name': 'retrieve_renewable_cards'}, 'type': 'function'}]}, response_metadata={'token_usage': {'completion_tokens': 17, 'prompt_tokens': 601, 'total_tokens': 618}, 'model_name': 'gpt-4-32k', 'system_fingerprint': None, 'finish_reason': 'tool_calls', 'logprobs': None, 'content_filter_results': {}}, id='run-01c47931-5fa8-4a0b-8530-a765929effea-0', tool_calls=[{'name': 'retrieve_renewable_cards', 'args': {'expired_days': 1460}, 'id': 'call_b3xP1bf2UT2po6nipcsviX36', 'type': 'tool_call'}], usage_metadata={'input_tokens': 601, 'output_tokens': 17, 'total_tokens': 618}),\n",
       "  ToolMessage(content=\"[Card(id='b465eb1e-5cba-4823-981f-acb26ea3b982', brand='mastercard', card_type='Debit', status='Active', lock_status='UNLOCKED', replacement_status='NotUnderReplacement', holder_name='Sara Williams', currency='USD', expiry_date='2028-08-31'), Card(id='d94b0808-f085-4ddd-be66-bd8fe67119a1', brand='mastercard', card_type='Debit', status='Cancelled', lock_status='UNLOCKED', replacement_status='Replaced', holder_name='Sara Williams', currency='USD', expiry_date='2028-08-31')]\", name='retrieve_renewable_cards', id='b492b306-f626-477a-815e-2e147f68cb59', tool_call_id='call_b3xP1bf2UT2po6nipcsviX36'),\n",
       "  AIMessage(content='I found the following cards that are renewable. Which one do you want to renew?', id='9c679b99-cbfb-4460-afa5-9960109a0f76'),\n",
       "  HumanMessage(content='Debit', id='20200ddb-60bb-4fdd-9eb8-99924a274144'),\n",
       "  AIMessage(content=\"Let's review your renewable card info!\", id='07cfdb65-80dd-425a-befe-bd93243bbc91'),\n",
       "  HumanMessage(content=\"it's too hot now, what is the weather in HCMC?\", id='97615f3f-f2ba-4eb2-b941-733daa0d15b5'),\n",
       "  AIMessage(content=\"I'm sorry, but as a banking card assistant, I can only help with card-related queries. For weather updates, please refer to a reliable weather forecasting service.\", response_metadata={'token_usage': {'completion_tokens': 34, 'prompt_tokens': 836, 'total_tokens': 870}, 'model_name': 'gpt-4-32k', 'system_fingerprint': None, 'finish_reason': 'stop', 'logprobs': None, 'content_filter_results': {}}, id='run-fbe5816c-3962-4a03-9a52-eb12c1c31d5e-0', usage_metadata={'input_tokens': 836, 'output_tokens': 34, 'total_tokens': 870})],\n",
       " 'responses': ['{\"thread_id\":\"3c1f199a-2afd-4e9e-a810-b9dc3ab557bc-no_available_renewable_card\",\"response\":\"I didn\\'t find any renewable card from your profile.\",\"action\":\"SHOW_REPLY\",\"metadata\":null}',\n",
       "  '{\"thread_id\":\"3c1f199a-2afd-4e9e-a810-b9dc3ab557bc-available_renewable_card\",\"response\":\"I found the following cards that are renewable. Which one do you want to renew?\",\"action\":\"SHOW_CHOICES\",\"metadata\":{\"type\":\"CHOICES_DATA\",\"choices\":[{\"type\":\"CARD_CHOICE\",\"id\":\"b465eb1e-5cba-4823-981f-acb26ea3b982\",\"name\":null,\"description\":null,\"is_enabled\":true,\"brand\":\"mastercard\",\"card_type\":\"Debit\",\"status\":\"Active\",\"lock_status\":\"UNLOCKED\",\"replacement_status\":\"NotUnderReplacement\",\"holder_name\":\"Sara Williams\",\"currency\":\"USD\",\"expiry_date\":\"2028-08-31\"},{\"type\":\"CARD_CHOICE\",\"id\":\"d94b0808-f085-4ddd-be66-bd8fe67119a1\",\"name\":null,\"description\":null,\"is_enabled\":true,\"brand\":\"mastercard\",\"card_type\":\"Debit\",\"status\":\"Cancelled\",\"lock_status\":\"UNLOCKED\",\"replacement_status\":\"Replaced\",\"holder_name\":\"Sara Williams\",\"currency\":\"USD\",\"expiry_date\":\"2028-08-31\"}]}}',\n",
       "  '{\"thread_id\":\"3c1f199a-2afd-4e9e-a810-b9dc3ab557bc-review_renewable_card_info\",\"response\":\"Let\\'s review your renewable card info!\",\"action\":\"RENEW_CARD\",\"metadata\":{\"type\":\"RENEW_CARD_DATA\",\"card\":{\"id\":\"d94b0808-f085-4ddd-be66-bd8fe67119a1\",\"brand\":\"mastercard\",\"card_type\":\"Debit\",\"status\":\"Cancelled\",\"lock_status\":\"UNLOCKED\",\"replacement_status\":\"Replaced\",\"holder_name\":\"Sara Williams\",\"currency\":\"USD\",\"expiry_date\":\"2028-08-31\"}}}'],\n",
       " 'cards': {'d94b0808-f085-4ddd-be66-bd8fe67119a1': Card(id='d94b0808-f085-4ddd-be66-bd8fe67119a1', brand='mastercard', card_type='Debit', status='Cancelled', lock_status='UNLOCKED', replacement_status='Replaced', holder_name='Sara Williams', currency='USD', expiry_date='2028-08-31')}}"
      ]
     },
     "execution_count": 46,
     "metadata": {},
     "output_type": "execute_result"
    }
   ],
   "source": [
    "current_state = await graph.aget_state(config=config)\n",
    "print(current_state.values)"
   ]
  }
 ],
 "metadata": {
  "kernelspec": {
   "display_name": "fingpt-py3.11",
   "language": "python",
   "name": "fingpt-py3.11"
  },
  "language_info": {
   "codemirror_mode": {
    "name": "ipython",
    "version": 3
   },
   "file_extension": ".py",
   "mimetype": "text/x-python",
   "name": "python",
   "nbconvert_exporter": "python",
   "pygments_lexer": "ipython3",
   "version": "3.11.4"
  }
 },
 "nbformat": 4,
 "nbformat_minor": 5
}
